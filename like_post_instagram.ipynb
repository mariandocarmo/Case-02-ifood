{
  "nbformat": 4,
  "nbformat_minor": 0,
  "metadata": {
    "colab": {
      "name": "like-post-instagram.ipynb",
      "provenance": [],
      "collapsed_sections": []
    },
    "kernelspec": {
      "name": "python3",
      "display_name": "Python 3"
    },
    "language_info": {
      "name": "python"
    }
  },
  "cells": [
    {
      "cell_type": "code",
      "metadata": {
        "colab": {
          "base_uri": "https://localhost:8080/"
        },
        "id": "ldYjCkbDPshc",
        "outputId": "b8b1962a-f8e6-4d70-fce2-dcf7c4bbc7dd"
      },
      "source": [
        "%ls"
      ],
      "execution_count": null,
      "outputs": [
        {
          "output_type": "stream",
          "text": [
            "\u001b[0m\u001b[01;34mdrive\u001b[0m/  \u001b[01;34msample_data\u001b[0m/\n"
          ],
          "name": "stdout"
        }
      ]
    },
    {
      "cell_type": "code",
      "metadata": {
        "colab": {
          "base_uri": "https://localhost:8080/"
        },
        "id": "6wXp0jHSPuJ8",
        "outputId": "75ab83e3-ed4d-483c-9bf8-681bd3618b72"
      },
      "source": [
        "%cd drive/MyDrive/projeto-final-vamoai"
      ],
      "execution_count": null,
      "outputs": [
        {
          "output_type": "stream",
          "text": [
            "/content/drive/MyDrive/projeto-final-vamoai\n"
          ],
          "name": "stdout"
        }
      ]
    },
    {
      "cell_type": "markdown",
      "metadata": {
        "id": "enJY2ntTSht8"
      },
      "source": [
        "### Importando bibliotecas necessárias para criação e modificações no Dataframe"
      ]
    },
    {
      "cell_type": "code",
      "metadata": {
        "id": "Iuw8mW_IPywf"
      },
      "source": [
        "import pandas as pd\n",
        "import json\n",
        "import csv"
      ],
      "execution_count": null,
      "outputs": []
    },
    {
      "cell_type": "code",
      "metadata": {
        "id": "gPlQkhBybz5x"
      },
      "source": [
        "from pandas import json_normalize\n",
        "from pathlib import Path\n",
        "from datetime import datetime"
      ],
      "execution_count": null,
      "outputs": []
    },
    {
      "cell_type": "markdown",
      "metadata": {
        "id": "tPMWxg6BSrH6"
      },
      "source": [
        "### Criando a conexão com o arquivo no google drive e criando um dataframe"
      ]
    },
    {
      "cell_type": "code",
      "metadata": {
        "id": "wHRaDoPVQimS"
      },
      "source": [
        "p = Path(r'/content/drive/MyDrive/projeto-final-vamoai/liked_posts.json')\n",
        "with p.open('r', encoding='utf-8') as f:\n",
        "    data = json.loads(f.read())\n",
        "df = pd.json_normalize(data,'likes_media_likes')\n"
      ],
      "execution_count": null,
      "outputs": []
    },
    {
      "cell_type": "markdown",
      "metadata": {
        "id": "xHAw7uUCS1bR"
      },
      "source": [
        "### Criando um segundo dataframe e unindo duas estruturas que estão separadas no mesmo arquivo JSON e criando um terceiro Dataframe com o nome de: 'like_post'. Após isto, apaguei as colunas que não pretendia utilizar"
      ]
    },
    {
      "cell_type": "code",
      "metadata": {
        "id": "tJyTKqMQwsw-"
      },
      "source": [
        "df2 = pd.json_normalize(data,['likes_media_likes','string_list_data'] )\n",
        "like_post = pd.concat([df, df2], axis=1)\n",
        "like_post.drop(columns=['media_list_data','string_list_data','href','value'], inplace=True )\n"
      ],
      "execution_count": null,
      "outputs": []
    },
    {
      "cell_type": "markdown",
      "metadata": {
        "id": "lTB8-WKrT80x"
      },
      "source": [
        "# Verificando como se encontra o dataframe após as modificações"
      ]
    },
    {
      "cell_type": "code",
      "metadata": {
        "colab": {
          "base_uri": "https://localhost:8080/",
          "height": 202
        },
        "id": "DabQyHQ5b2QA",
        "outputId": "f8693ebc-6763-414f-a674-606e301f8be4"
      },
      "source": [
        "like_post.head()"
      ],
      "execution_count": null,
      "outputs": [
        {
          "output_type": "execute_result",
          "data": {
            "text/html": [
              "<div>\n",
              "<style scoped>\n",
              "    .dataframe tbody tr th:only-of-type {\n",
              "        vertical-align: middle;\n",
              "    }\n",
              "\n",
              "    .dataframe tbody tr th {\n",
              "        vertical-align: top;\n",
              "    }\n",
              "\n",
              "    .dataframe thead th {\n",
              "        text-align: right;\n",
              "    }\n",
              "</style>\n",
              "<table border=\"1\" class=\"dataframe\">\n",
              "  <thead>\n",
              "    <tr style=\"text-align: right;\">\n",
              "      <th></th>\n",
              "      <th>title</th>\n",
              "      <th>timestamp</th>\n",
              "    </tr>\n",
              "  </thead>\n",
              "  <tbody>\n",
              "    <tr>\n",
              "      <th>0</th>\n",
              "      <td>nidobadoque</td>\n",
              "      <td>1626140043</td>\n",
              "    </tr>\n",
              "    <tr>\n",
              "      <th>1</th>\n",
              "      <td>lindnerfoto</td>\n",
              "      <td>1625624525</td>\n",
              "    </tr>\n",
              "    <tr>\n",
              "      <th>2</th>\n",
              "      <td>pycodebr</td>\n",
              "      <td>1625099585</td>\n",
              "    </tr>\n",
              "    <tr>\n",
              "      <th>3</th>\n",
              "      <td>receitas2021top</td>\n",
              "      <td>1624847802</td>\n",
              "    </tr>\n",
              "    <tr>\n",
              "      <th>4</th>\n",
              "      <td>amorporpele</td>\n",
              "      <td>1624811123</td>\n",
              "    </tr>\n",
              "  </tbody>\n",
              "</table>\n",
              "</div>"
            ],
            "text/plain": [
              "             title   timestamp\n",
              "0      nidobadoque  1626140043\n",
              "1      lindnerfoto  1625624525\n",
              "2         pycodebr  1625099585\n",
              "3  receitas2021top  1624847802\n",
              "4      amorporpele  1624811123"
            ]
          },
          "metadata": {
            "tags": []
          },
          "execution_count": 8
        }
      ]
    },
    {
      "cell_type": "markdown",
      "metadata": {
        "id": "rXIdUUC7UThJ"
      },
      "source": [
        "### Verificando os tipos de dados do Dataframe"
      ]
    },
    {
      "cell_type": "code",
      "metadata": {
        "colab": {
          "base_uri": "https://localhost:8080/"
        },
        "id": "wyHOuajveBwX",
        "outputId": "b6379ced-fb76-44b9-9ffa-98291856fa24"
      },
      "source": [
        "df.info()"
      ],
      "execution_count": null,
      "outputs": [
        {
          "output_type": "stream",
          "text": [
            "<class 'pandas.core.frame.DataFrame'>\n",
            "RangeIndex: 554 entries, 0 to 553\n",
            "Data columns (total 3 columns):\n",
            " #   Column            Non-Null Count  Dtype \n",
            "---  ------            --------------  ----- \n",
            " 0   title             554 non-null    object\n",
            " 1   media_list_data   554 non-null    object\n",
            " 2   string_list_data  554 non-null    object\n",
            "dtypes: object(3)\n",
            "memory usage: 13.1+ KB\n"
          ],
          "name": "stdout"
        }
      ]
    },
    {
      "cell_type": "markdown",
      "metadata": {
        "id": "9KFxR5pFUsyP"
      },
      "source": [
        "### Transformando os dados de tempo de object para datetime"
      ]
    },
    {
      "cell_type": "code",
      "metadata": {
        "id": "8AzVbAh-eRyd"
      },
      "source": [
        "like_post['timestamp'] = like_post['timestamp'].apply(lambda x :  pd.to_datetime(datetime.fromtimestamp(x).strftime('%d/%m/%Y')))"
      ],
      "execution_count": null,
      "outputs": []
    },
    {
      "cell_type": "markdown",
      "metadata": {
        "id": "C8Zo9wzgUzth"
      },
      "source": [
        "### Verificando se a modificação ocorreu com sucesso!"
      ]
    },
    {
      "cell_type": "code",
      "metadata": {
        "colab": {
          "base_uri": "https://localhost:8080/"
        },
        "id": "sFH3Jj15xnaZ",
        "outputId": "6a1e23e2-706d-4dc5-cfa4-68c856cf5592"
      },
      "source": [
        "like_post.info()"
      ],
      "execution_count": null,
      "outputs": [
        {
          "output_type": "stream",
          "text": [
            "<class 'pandas.core.frame.DataFrame'>\n",
            "RangeIndex: 554 entries, 0 to 553\n",
            "Data columns (total 2 columns):\n",
            " #   Column     Non-Null Count  Dtype         \n",
            "---  ------     --------------  -----         \n",
            " 0   title      554 non-null    object        \n",
            " 1   timestamp  554 non-null    datetime64[ns]\n",
            "dtypes: datetime64[ns](1), object(1)\n",
            "memory usage: 8.8+ KB\n"
          ],
          "name": "stdout"
        }
      ]
    },
    {
      "cell_type": "markdown",
      "metadata": {
        "id": "MFWavGqi1UQK"
      },
      "source": [
        "### Renomeando as colunas"
      ]
    },
    {
      "cell_type": "code",
      "metadata": {
        "id": "NQRAfWeg0xGM"
      },
      "source": [
        "like_post.rename(columns={'title':'titulo','timestamp':'data'},inplace=True)"
      ],
      "execution_count": null,
      "outputs": []
    },
    {
      "cell_type": "markdown",
      "metadata": {
        "id": "IHTZ9Ga6VH5_"
      },
      "source": [
        "### Verificando se a modificação ocorreu com sucesso!"
      ]
    },
    {
      "cell_type": "code",
      "metadata": {
        "colab": {
          "base_uri": "https://localhost:8080/",
          "height": 202
        },
        "id": "-S2cwgDl1FpI",
        "outputId": "3f68eb8c-3c6b-40c3-b3ab-af4a7b9a073a"
      },
      "source": [
        "like_post.head()"
      ],
      "execution_count": null,
      "outputs": [
        {
          "output_type": "execute_result",
          "data": {
            "text/html": [
              "<div>\n",
              "<style scoped>\n",
              "    .dataframe tbody tr th:only-of-type {\n",
              "        vertical-align: middle;\n",
              "    }\n",
              "\n",
              "    .dataframe tbody tr th {\n",
              "        vertical-align: top;\n",
              "    }\n",
              "\n",
              "    .dataframe thead th {\n",
              "        text-align: right;\n",
              "    }\n",
              "</style>\n",
              "<table border=\"1\" class=\"dataframe\">\n",
              "  <thead>\n",
              "    <tr style=\"text-align: right;\">\n",
              "      <th></th>\n",
              "      <th>titulo</th>\n",
              "      <th>data</th>\n",
              "    </tr>\n",
              "  </thead>\n",
              "  <tbody>\n",
              "    <tr>\n",
              "      <th>0</th>\n",
              "      <td>nidobadoque</td>\n",
              "      <td>2021-07-13</td>\n",
              "    </tr>\n",
              "    <tr>\n",
              "      <th>1</th>\n",
              "      <td>lindnerfoto</td>\n",
              "      <td>2021-07-07</td>\n",
              "    </tr>\n",
              "    <tr>\n",
              "      <th>2</th>\n",
              "      <td>pycodebr</td>\n",
              "      <td>2021-01-07</td>\n",
              "    </tr>\n",
              "    <tr>\n",
              "      <th>3</th>\n",
              "      <td>receitas2021top</td>\n",
              "      <td>2021-06-28</td>\n",
              "    </tr>\n",
              "    <tr>\n",
              "      <th>4</th>\n",
              "      <td>amorporpele</td>\n",
              "      <td>2021-06-27</td>\n",
              "    </tr>\n",
              "  </tbody>\n",
              "</table>\n",
              "</div>"
            ],
            "text/plain": [
              "            titulo       data\n",
              "0      nidobadoque 2021-07-13\n",
              "1      lindnerfoto 2021-07-07\n",
              "2         pycodebr 2021-01-07\n",
              "3  receitas2021top 2021-06-28\n",
              "4      amorporpele 2021-06-27"
            ]
          },
          "metadata": {
            "tags": []
          },
          "execution_count": 13
        }
      ]
    },
    {
      "cell_type": "markdown",
      "metadata": {
        "id": "SQ1nuALn2cSz"
      },
      "source": [
        "### Verificando páginas curtidas em determinado período de tempo"
      ]
    },
    {
      "cell_type": "code",
      "metadata": {
        "colab": {
          "base_uri": "https://localhost:8080/"
        },
        "id": "fyuuEUYs2A9f",
        "outputId": "6eb77848-c1c8-4351-bab4-4ddaa5b7f0a7"
      },
      "source": [
        "curtidas_instagram = like_post.loc[(like_post['data'] > '2021-04-12') & (like_post['data'] < '2021-06-04')]\n",
        "curtidas_instagram['titulo'].value_counts()"
      ],
      "execution_count": null,
      "outputs": [
        {
          "output_type": "execute_result",
          "data": {
            "text/plain": [
              "codigofontetv                     2\n",
              "irkelly_institutohesed_oficial    2\n",
              "pequenasdicasde                   1\n",
              "organizeinformacoes               1\n",
              "roogerferrari                     1\n",
              "dii_lua                           1\n",
              "3.baby.birds                      1\n",
              "techly.com.br                     1\n",
              "ligiaguerra_                      1\n",
              "lipegeazi                         1\n",
              "valeskabruzzi                     1\n",
              "paulaguimaraescn                  1\n",
              "crb7regiao                        1\n",
              "guimaraes.tatti                   1\n",
              "Name: titulo, dtype: int64"
            ]
          },
          "metadata": {
            "tags": []
          },
          "execution_count": 14
        }
      ]
    },
    {
      "cell_type": "markdown",
      "metadata": {
        "id": "N350WN-RV-BN"
      },
      "source": [
        "### Transformando o Dataframe em arquivo csv"
      ]
    },
    {
      "cell_type": "code",
      "metadata": {
        "id": "VOqEUlSiWvvE"
      },
      "source": [
        "like_post.to_csv ('like_instagram.csv',index=False)"
      ],
      "execution_count": null,
      "outputs": []
    },
    {
      "cell_type": "code",
      "metadata": {
        "colab": {
          "base_uri": "https://localhost:8080/",
          "height": 16
        },
        "id": "T4ILLiLcWzhy",
        "outputId": "cfd10bb8-d626-4026-8fea-14da561934c0"
      },
      "source": [
        "from google.colab import files\n",
        "files.download(\"like_instagram.csv\")"
      ],
      "execution_count": null,
      "outputs": [
        {
          "output_type": "display_data",
          "data": {
            "application/javascript": [
              "\n",
              "    async function download(id, filename, size) {\n",
              "      if (!google.colab.kernel.accessAllowed) {\n",
              "        return;\n",
              "      }\n",
              "      const div = document.createElement('div');\n",
              "      const label = document.createElement('label');\n",
              "      label.textContent = `Downloading \"${filename}\": `;\n",
              "      div.appendChild(label);\n",
              "      const progress = document.createElement('progress');\n",
              "      progress.max = size;\n",
              "      div.appendChild(progress);\n",
              "      document.body.appendChild(div);\n",
              "\n",
              "      const buffers = [];\n",
              "      let downloaded = 0;\n",
              "\n",
              "      const channel = await google.colab.kernel.comms.open(id);\n",
              "      // Send a message to notify the kernel that we're ready.\n",
              "      channel.send({})\n",
              "\n",
              "      for await (const message of channel.messages) {\n",
              "        // Send a message to notify the kernel that we're ready.\n",
              "        channel.send({})\n",
              "        if (message.buffers) {\n",
              "          for (const buffer of message.buffers) {\n",
              "            buffers.push(buffer);\n",
              "            downloaded += buffer.byteLength;\n",
              "            progress.value = downloaded;\n",
              "          }\n",
              "        }\n",
              "      }\n",
              "      const blob = new Blob(buffers, {type: 'application/binary'});\n",
              "      const a = document.createElement('a');\n",
              "      a.href = window.URL.createObjectURL(blob);\n",
              "      a.download = filename;\n",
              "      div.appendChild(a);\n",
              "      a.click();\n",
              "      div.remove();\n",
              "    }\n",
              "  "
            ],
            "text/plain": [
              "<IPython.core.display.Javascript object>"
            ]
          },
          "metadata": {
            "tags": []
          }
        },
        {
          "output_type": "display_data",
          "data": {
            "application/javascript": [
              "download(\"download_5969d6b8-8968-4938-9266-e21ab1362f81\", \"like_instagram.csv\", 14137)"
            ],
            "text/plain": [
              "<IPython.core.display.Javascript object>"
            ]
          },
          "metadata": {
            "tags": []
          }
        }
      ]
    }
  ]
}