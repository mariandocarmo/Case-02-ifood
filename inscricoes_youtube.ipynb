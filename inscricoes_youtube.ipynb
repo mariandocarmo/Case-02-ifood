{
  "nbformat": 4,
  "nbformat_minor": 0,
  "metadata": {
    "colab": {
      "name": "inscricoes-youtube.ipynb",
      "provenance": [],
      "collapsed_sections": []
    },
    "kernelspec": {
      "name": "python3",
      "display_name": "Python 3"
    },
    "language_info": {
      "name": "python"
    }
  },
  "cells": [
    {
      "cell_type": "code",
      "metadata": {
        "id": "oSwF760eYZL9",
        "colab": {
          "base_uri": "https://localhost:8080/"
        },
        "outputId": "caa11bed-2663-470a-c9bc-53a1f8e6f67d"
      },
      "source": [
        "%ls"
      ],
      "execution_count": null,
      "outputs": [
        {
          "output_type": "stream",
          "text": [
            " arquivo_inscricoes_youtube.csv\n",
            " BrowserHistory_anterior_2020.json\n",
            " BrowserHistory-antes2020.json\n",
            " BrowserHistory.json\n",
            "'C:\\Users\\miche\\Downloads\\export_dataframe.csv'\n",
            " events-2021-00000-of-00001.json\n",
            " following_instagram.csv\n",
            " following.json\n",
            " histórico-de-visualização.json\n",
            " historico_pesquisa_google.csv\n",
            " historico_visualizacao_youtube.csv\n",
            " inscrições.json\n",
            " liked_posts.json\n",
            " like_instagram.csv\n",
            " Minhaatividade.json\n",
            " musicas-spotfy.csv\n",
            " rider_app_analytics-0.csv\n",
            " spotfy-playlist.json\n"
          ],
          "name": "stdout"
        }
      ]
    },
    {
      "cell_type": "code",
      "metadata": {
        "colab": {
          "base_uri": "https://localhost:8080/"
        },
        "id": "xWPILoHnehHV",
        "outputId": "fb741fee-c497-4457-f4b3-04557d2eeecd"
      },
      "source": [
        "%cd /content/drive/MyDrive/projeto-final-vamoai"
      ],
      "execution_count": null,
      "outputs": [
        {
          "output_type": "stream",
          "text": [
            "/content/drive/MyDrive/projeto-final-vamoai\n"
          ],
          "name": "stdout"
        }
      ]
    },
    {
      "cell_type": "markdown",
      "metadata": {
        "id": "EMELkr3etLnR"
      },
      "source": [
        "### Importando bibliotecas necessárias para criação e modificações no Dataframe"
      ]
    },
    {
      "cell_type": "code",
      "metadata": {
        "id": "rI6SbQIGekTl"
      },
      "source": [
        "import pandas as pd\n",
        "import json\n",
        "import csv"
      ],
      "execution_count": null,
      "outputs": []
    },
    {
      "cell_type": "code",
      "metadata": {
        "id": "YYSWqo1DessF"
      },
      "source": [
        "from pandas import json_normalize\n",
        "from pathlib import Path\n",
        "from datetime import datetime"
      ],
      "execution_count": null,
      "outputs": []
    },
    {
      "cell_type": "markdown",
      "metadata": {
        "id": "wgxrXZcbudQL"
      },
      "source": [
        "### Criando a conexão com o arquivo no google drive e criando um dataframe"
      ]
    },
    {
      "cell_type": "code",
      "metadata": {
        "id": "PhLAZwnNeyLv"
      },
      "source": [
        "p = Path(r'/content/drive/MyDrive/projeto-final-vamoai/inscrições.json')\n",
        "with p.open('r', encoding='utf-8') as f:\n",
        "    data = json.loads(f.read())\n",
        "df = pd.json_normalize(data)\n"
      ],
      "execution_count": null,
      "outputs": []
    },
    {
      "cell_type": "markdown",
      "metadata": {
        "id": "4f11Q8cgp3aS"
      },
      "source": [
        "### Transformando JSON em Dataframe e apagando as colunas que não desejo utilizar e criando um segundo dataframe"
      ]
    },
    {
      "cell_type": "code",
      "metadata": {
        "id": "Pt8kUAPprf-l"
      },
      "source": [
        "df2 = pd.json_normalize(data)\n",
        "df2.drop(columns=['etag','id','kind','contentDetails.activityType',\n",
        "                  'contentDetails.newItemCount','contentDetails.totalItemCount',\n",
        "                  'snippet.channelId','snippet.resourceId.channelId',\n",
        "                  'snippet.resourceId.kind','snippet.thumbnails.default.url',\n",
        "                  'snippet.thumbnails.high.url','snippet.thumbnails.medium.url'], inplace=True )"
      ],
      "execution_count": null,
      "outputs": []
    },
    {
      "cell_type": "markdown",
      "metadata": {
        "id": "y9ydk1oWqYBT"
      },
      "source": [
        "### Consultando o Dataframe"
      ]
    },
    {
      "cell_type": "code",
      "metadata": {
        "colab": {
          "base_uri": "https://localhost:8080/",
          "height": 202
        },
        "id": "3yKrHyP7AK-n",
        "outputId": "e4fe94f4-8325-4bcc-af90-42c7509f4948"
      },
      "source": [
        "df2.head()"
      ],
      "execution_count": null,
      "outputs": [
        {
          "output_type": "execute_result",
          "data": {
            "text/html": [
              "<div>\n",
              "<style scoped>\n",
              "    .dataframe tbody tr th:only-of-type {\n",
              "        vertical-align: middle;\n",
              "    }\n",
              "\n",
              "    .dataframe tbody tr th {\n",
              "        vertical-align: top;\n",
              "    }\n",
              "\n",
              "    .dataframe thead th {\n",
              "        text-align: right;\n",
              "    }\n",
              "</style>\n",
              "<table border=\"1\" class=\"dataframe\">\n",
              "  <thead>\n",
              "    <tr style=\"text-align: right;\">\n",
              "      <th></th>\n",
              "      <th>snippet.description</th>\n",
              "      <th>snippet.publishedAt</th>\n",
              "      <th>snippet.title</th>\n",
              "    </tr>\n",
              "  </thead>\n",
              "  <tbody>\n",
              "    <tr>\n",
              "      <th>0</th>\n",
              "      <td>Hi! My name is Allie Sherlock, I'm 16 years ol...</td>\n",
              "      <td>2021-04-30T05:05:56.332Z</td>\n",
              "      <td>Allie Sherlock</td>\n",
              "    </tr>\n",
              "    <tr>\n",
              "      <th>1</th>\n",
              "      <td>Tudo sobre tecnologia em um só lugar! Com víde...</td>\n",
              "      <td>2021-01-21T21:01:42.616Z</td>\n",
              "      <td>Alura Cursos Online</td>\n",
              "    </tr>\n",
              "    <tr>\n",
              "      <th>2</th>\n",
              "      <td>Iniciativa de Ana Paula Mendes para compartilh...</td>\n",
              "      <td>2021-02-04T03:56:11.150Z</td>\n",
              "      <td>Ana no Terminal</td>\n",
              "    </tr>\n",
              "    <tr>\n",
              "      <th>3</th>\n",
              "      <td>Duo formado em 2015 por Ana Caetano e Vitória ...</td>\n",
              "      <td>2020-10-02T01:06:22.844Z</td>\n",
              "      <td>ANAVITÓRIA</td>\n",
              "    </tr>\n",
              "    <tr>\n",
              "      <th>4</th>\n",
              "      <td>O Clube de Leitura ZO tem como objetivo promov...</td>\n",
              "      <td>2021-04-01T17:35:07.663Z</td>\n",
              "      <td>Clube de Leitura</td>\n",
              "    </tr>\n",
              "  </tbody>\n",
              "</table>\n",
              "</div>"
            ],
            "text/plain": [
              "                                 snippet.description  ...        snippet.title\n",
              "0  Hi! My name is Allie Sherlock, I'm 16 years ol...  ...       Allie Sherlock\n",
              "1  Tudo sobre tecnologia em um só lugar! Com víde...  ...  Alura Cursos Online\n",
              "2  Iniciativa de Ana Paula Mendes para compartilh...  ...      Ana no Terminal\n",
              "3  Duo formado em 2015 por Ana Caetano e Vitória ...  ...           ANAVITÓRIA\n",
              "4  O Clube de Leitura ZO tem como objetivo promov...  ...     Clube de Leitura\n",
              "\n",
              "[5 rows x 3 columns]"
            ]
          },
          "metadata": {
            "tags": []
          },
          "execution_count": 23
        }
      ]
    },
    {
      "cell_type": "markdown",
      "metadata": {
        "id": "sxzVP6NJqfo-"
      },
      "source": [
        "### Verificando os tipos de dados do DataFrame"
      ]
    },
    {
      "cell_type": "code",
      "metadata": {
        "colab": {
          "base_uri": "https://localhost:8080/"
        },
        "id": "W27DkKy7Es_4",
        "outputId": "7cee1be1-7008-4082-c455-701ade5b7e60"
      },
      "source": [
        "df2.info()"
      ],
      "execution_count": null,
      "outputs": [
        {
          "output_type": "stream",
          "text": [
            "<class 'pandas.core.frame.DataFrame'>\n",
            "RangeIndex: 35 entries, 0 to 34\n",
            "Data columns (total 3 columns):\n",
            " #   Column               Non-Null Count  Dtype \n",
            "---  ------               --------------  ----- \n",
            " 0   snippet.description  35 non-null     object\n",
            " 1   snippet.publishedAt  35 non-null     object\n",
            " 2   snippet.title        35 non-null     object\n",
            "dtypes: object(3)\n",
            "memory usage: 968.0+ bytes\n"
          ],
          "name": "stdout"
        }
      ]
    },
    {
      "cell_type": "markdown",
      "metadata": {
        "id": "gPGYjlDKHyGD"
      },
      "source": [
        "### Transformando os dados da coluna  de tempo que está no formato object para datetime"
      ]
    },
    {
      "cell_type": "code",
      "metadata": {
        "id": "h9Y-_LZkHw7y"
      },
      "source": [
        "df2[\"snippet.publishedAt\"]= pd.to_datetime(df2[\"snippet.publishedAt\"],unit='ns', errors='ignore')"
      ],
      "execution_count": null,
      "outputs": []
    },
    {
      "cell_type": "markdown",
      "metadata": {
        "id": "yxAX4fHcID3i"
      },
      "source": [
        "### Retirar o tempo de datetime"
      ]
    },
    {
      "cell_type": "code",
      "metadata": {
        "id": "RvecuQ6PGvd0"
      },
      "source": [
        "df2['snippet.publishedAt'] = df2['snippet.publishedAt'].dt.tz_convert(None)\n",
        "df2[\"snippet.publishedAt\"] = pd.to_datetime(df2[\"snippet.publishedAt\"].dt.strftime('%d/%m/%Y'))"
      ],
      "execution_count": null,
      "outputs": []
    },
    {
      "cell_type": "markdown",
      "metadata": {
        "id": "HwzBCnbIrpiK"
      },
      "source": [
        "### Confirmando se a conversão para datetime ocorreu"
      ]
    },
    {
      "cell_type": "code",
      "metadata": {
        "colab": {
          "base_uri": "https://localhost:8080/"
        },
        "id": "t6TUJScWIVgd",
        "outputId": "f31e822a-ae0c-4b21-a3df-4e18368df811"
      },
      "source": [
        "df2.info()"
      ],
      "execution_count": null,
      "outputs": [
        {
          "output_type": "stream",
          "text": [
            "<class 'pandas.core.frame.DataFrame'>\n",
            "RangeIndex: 35 entries, 0 to 34\n",
            "Data columns (total 3 columns):\n",
            " #   Column               Non-Null Count  Dtype         \n",
            "---  ------               --------------  -----         \n",
            " 0   snippet.description  35 non-null     object        \n",
            " 1   snippet.publishedAt  35 non-null     datetime64[ns]\n",
            " 2   snippet.title        35 non-null     object        \n",
            "dtypes: datetime64[ns](1), object(2)\n",
            "memory usage: 968.0+ bytes\n"
          ],
          "name": "stdout"
        }
      ]
    },
    {
      "cell_type": "markdown",
      "metadata": {
        "id": "xMnQkV6cRb_A"
      },
      "source": [
        "### Apagando valores nulos do Dataframe"
      ]
    },
    {
      "cell_type": "code",
      "metadata": {
        "id": "D9a6eHdgRgmo"
      },
      "source": [
        "df2.dropna(inplace=True)"
      ],
      "execution_count": null,
      "outputs": []
    },
    {
      "cell_type": "markdown",
      "metadata": {
        "id": "Q6rEWht0NBky"
      },
      "source": [
        "#### Renomeando colunas"
      ]
    },
    {
      "cell_type": "code",
      "metadata": {
        "id": "4oLiiKi4LlH_"
      },
      "source": [
        "df2.rename(columns={'snippet.title':'titulo','snippet.description':'descricao','snippet.publishedAt':'data'},inplace=True)"
      ],
      "execution_count": null,
      "outputs": []
    },
    {
      "cell_type": "markdown",
      "metadata": {
        "id": "jB6XhtPTr_bg"
      },
      "source": [
        "### Transformando o Dataframe em arquivo csv"
      ]
    },
    {
      "cell_type": "code",
      "metadata": {
        "id": "rNsOuL-AyWV2"
      },
      "source": [
        "df2.to_csv ('arquivo_inscricoes_youtube.csv',index=False)"
      ],
      "execution_count": null,
      "outputs": []
    },
    {
      "cell_type": "code",
      "metadata": {
        "colab": {
          "base_uri": "https://localhost:8080/",
          "height": 16
        },
        "id": "hQMPqTie0biY",
        "outputId": "4e7db24e-9229-4673-cdc2-eeedfb9a1b45"
      },
      "source": [
        "from google.colab import files\n",
        "files.download(\"arquivo_inscricoes_youtube.csv\")"
      ],
      "execution_count": null,
      "outputs": [
        {
          "output_type": "display_data",
          "data": {
            "application/javascript": [
              "\n",
              "    async function download(id, filename, size) {\n",
              "      if (!google.colab.kernel.accessAllowed) {\n",
              "        return;\n",
              "      }\n",
              "      const div = document.createElement('div');\n",
              "      const label = document.createElement('label');\n",
              "      label.textContent = `Downloading \"${filename}\": `;\n",
              "      div.appendChild(label);\n",
              "      const progress = document.createElement('progress');\n",
              "      progress.max = size;\n",
              "      div.appendChild(progress);\n",
              "      document.body.appendChild(div);\n",
              "\n",
              "      const buffers = [];\n",
              "      let downloaded = 0;\n",
              "\n",
              "      const channel = await google.colab.kernel.comms.open(id);\n",
              "      // Send a message to notify the kernel that we're ready.\n",
              "      channel.send({})\n",
              "\n",
              "      for await (const message of channel.messages) {\n",
              "        // Send a message to notify the kernel that we're ready.\n",
              "        channel.send({})\n",
              "        if (message.buffers) {\n",
              "          for (const buffer of message.buffers) {\n",
              "            buffers.push(buffer);\n",
              "            downloaded += buffer.byteLength;\n",
              "            progress.value = downloaded;\n",
              "          }\n",
              "        }\n",
              "      }\n",
              "      const blob = new Blob(buffers, {type: 'application/binary'});\n",
              "      const a = document.createElement('a');\n",
              "      a.href = window.URL.createObjectURL(blob);\n",
              "      a.download = filename;\n",
              "      div.appendChild(a);\n",
              "      a.click();\n",
              "      div.remove();\n",
              "    }\n",
              "  "
            ],
            "text/plain": [
              "<IPython.core.display.Javascript object>"
            ]
          },
          "metadata": {
            "tags": []
          }
        },
        {
          "output_type": "display_data",
          "data": {
            "application/javascript": [
              "download(\"download_0ffa83a3-4d8c-4aa0-9770-765515b16eb0\", \"arquivo_inscricoes_youtube.csv\", 12687)"
            ],
            "text/plain": [
              "<IPython.core.display.Javascript object>"
            ]
          },
          "metadata": {
            "tags": []
          }
        }
      ]
    }
  ]
}