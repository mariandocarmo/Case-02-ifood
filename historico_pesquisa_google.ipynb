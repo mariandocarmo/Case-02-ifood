{
  "nbformat": 4,
  "nbformat_minor": 0,
  "metadata": {
    "colab": {
      "name": "historico-pesquisa-google.ipynb",
      "provenance": [],
      "collapsed_sections": []
    },
    "kernelspec": {
      "name": "python3",
      "display_name": "Python 3"
    },
    "language_info": {
      "name": "python"
    }
  },
  "cells": [
    {
      "cell_type": "code",
      "metadata": {
        "colab": {
          "base_uri": "https://localhost:8080/"
        },
        "id": "cm7PiDCqEktR",
        "outputId": "f6a3e56d-9e6f-403a-8bde-c1aaabb842d4"
      },
      "source": [
        "%ls"
      ],
      "execution_count": null,
      "outputs": [
        {
          "output_type": "stream",
          "text": [
            "\u001b[0m\u001b[01;34mdrive\u001b[0m/  \u001b[01;34msample_data\u001b[0m/\n"
          ],
          "name": "stdout"
        }
      ]
    },
    {
      "cell_type": "code",
      "metadata": {
        "colab": {
          "base_uri": "https://localhost:8080/"
        },
        "id": "kDYZhdfpErkc",
        "outputId": "37a97dbd-2152-4a8d-9771-e7e2352179b2"
      },
      "source": [
        "%cd /content/drive/MyDrive/projeto-final-vamoai"
      ],
      "execution_count": null,
      "outputs": [
        {
          "output_type": "stream",
          "text": [
            "/content/drive/MyDrive/projeto-final-vamoai\n"
          ],
          "name": "stdout"
        }
      ]
    },
    {
      "cell_type": "markdown",
      "metadata": {
        "id": "LFA05a2DcIoF"
      },
      "source": [
        "### Importando bibliotecas necessárias para criação e modificações no Dataframe"
      ]
    },
    {
      "cell_type": "code",
      "metadata": {
        "id": "tWR8u-IeEvae"
      },
      "source": [
        "import pandas as pd\n",
        "import json\n",
        "import csv"
      ],
      "execution_count": null,
      "outputs": []
    },
    {
      "cell_type": "code",
      "metadata": {
        "id": "wQqfp30OFFls"
      },
      "source": [
        "from pandas import json_normalize\n",
        "from pathlib import Path\n",
        "from datetime import datetime"
      ],
      "execution_count": null,
      "outputs": []
    },
    {
      "cell_type": "markdown",
      "metadata": {
        "id": "Ss9WGCFmeU2u"
      },
      "source": [
        "### Criando a conexão com o arquivo no google drive e criando um dataframe"
      ]
    },
    {
      "cell_type": "code",
      "metadata": {
        "id": "Jt0ctYaxFH2O"
      },
      "source": [
        "p = Path(r'/content/drive/MyDrive/projeto-final-vamoai/BrowserHistory.json')\n",
        "with p.open('r', encoding='utf-8') as f:\n",
        "    data = json.loads(f.read())\n",
        "df = pd.json_normalize(data,'Browser History')\n"
      ],
      "execution_count": null,
      "outputs": []
    },
    {
      "cell_type": "markdown",
      "metadata": {
        "id": "ELNzQTFq23JC"
      },
      "source": [
        "### Criando conexão com o segundo Dataframe"
      ]
    },
    {
      "cell_type": "code",
      "metadata": {
        "id": "03yaVs80sxUT"
      },
      "source": [
        "p = Path(r'/content/drive/MyDrive/projeto-final-vamoai/BrowserHistory_anterior_2020.json')\n",
        "with p.open('r', encoding='utf-8') as f:\n",
        "    data = json.loads(f.read())\n",
        "segundo_df = pd.json_normalize(data,'Browser History')"
      ],
      "execution_count": null,
      "outputs": []
    },
    {
      "cell_type": "markdown",
      "metadata": {
        "id": "BB2ciVMy29do"
      },
      "source": [
        "### Unindo os dataframes"
      ]
    },
    {
      "cell_type": "code",
      "metadata": {
        "id": "iozkvrPNtxf8"
      },
      "source": [
        "historico_google = pd.concat([df, segundo_df], axis=1)"
      ],
      "execution_count": null,
      "outputs": []
    },
    {
      "cell_type": "markdown",
      "metadata": {
        "id": "t7q2dI-mgl7G"
      },
      "source": [
        "### Consultando as informações do dataframe para identificar os tipos de dados"
      ]
    },
    {
      "cell_type": "code",
      "metadata": {
        "colab": {
          "base_uri": "https://localhost:8080/"
        },
        "id": "lyuFei4zEFO1",
        "outputId": "3c78bab8-ac0f-4491-e3c2-573bab022645"
      },
      "source": [
        "historico_google.info()"
      ],
      "execution_count": null,
      "outputs": [
        {
          "output_type": "stream",
          "text": [
            "<class 'pandas.core.frame.DataFrame'>\n",
            "RangeIndex: 43499 entries, 0 to 43498\n",
            "Data columns (total 12 columns):\n",
            " #   Column           Non-Null Count  Dtype  \n",
            "---  ------           --------------  -----  \n",
            " 0   favicon_url      37478 non-null  object \n",
            " 1   page_transition  43499 non-null  object \n",
            " 2   title            43499 non-null  object \n",
            " 3   url              43499 non-null  object \n",
            " 4   client_id        43499 non-null  object \n",
            " 5   time_usec        43499 non-null  int64  \n",
            " 6   favicon_url      9972 non-null   object \n",
            " 7   page_transition  13069 non-null  object \n",
            " 8   title            13069 non-null  object \n",
            " 9   url              13069 non-null  object \n",
            " 10  client_id        13069 non-null  object \n",
            " 11  time_usec        13069 non-null  float64\n",
            "dtypes: float64(1), int64(1), object(10)\n",
            "memory usage: 4.0+ MB\n"
          ],
          "name": "stdout"
        }
      ]
    },
    {
      "cell_type": "markdown",
      "metadata": {
        "id": "djUCBKIG3UnS"
      },
      "source": [
        "### Renomeando as colunas com o mesmo nome para unir as colunas e linhas dos 2 Dataframes"
      ]
    },
    {
      "cell_type": "code",
      "metadata": {
        "id": "6GxMNxgNzV6s"
      },
      "source": [
        "relacao_colunas = {'title':'title','url':'url','page_transition':'page_transition','client_id':'client_id',\n",
        "                   'time_usec':'time_usec','favicon_url':'favicon_url'}\n",
        "historico_google = pd.concat([df, segundo_df.rename(columns=relacao_colunas)])"
      ],
      "execution_count": null,
      "outputs": []
    },
    {
      "cell_type": "code",
      "metadata": {
        "id": "y4FAaq831QTX",
        "colab": {
          "base_uri": "https://localhost:8080/",
          "height": 531
        },
        "outputId": "21857d63-7f3a-4445-8f67-a02be062a46b"
      },
      "source": [
        "historico_google"
      ],
      "execution_count": null,
      "outputs": [
        {
          "output_type": "execute_result",
          "data": {
            "text/html": [
              "<div>\n",
              "<style scoped>\n",
              "    .dataframe tbody tr th:only-of-type {\n",
              "        vertical-align: middle;\n",
              "    }\n",
              "\n",
              "    .dataframe tbody tr th {\n",
              "        vertical-align: top;\n",
              "    }\n",
              "\n",
              "    .dataframe thead th {\n",
              "        text-align: right;\n",
              "    }\n",
              "</style>\n",
              "<table border=\"1\" class=\"dataframe\">\n",
              "  <thead>\n",
              "    <tr style=\"text-align: right;\">\n",
              "      <th></th>\n",
              "      <th>favicon_url</th>\n",
              "      <th>page_transition</th>\n",
              "      <th>title</th>\n",
              "      <th>url</th>\n",
              "      <th>client_id</th>\n",
              "      <th>time_usec</th>\n",
              "    </tr>\n",
              "  </thead>\n",
              "  <tbody>\n",
              "    <tr>\n",
              "      <th>0</th>\n",
              "      <td>https://www.youtube.com/s/desktop/a910c60b/img...</td>\n",
              "      <td>TYPED</td>\n",
              "      <td>(381) YouTube</td>\n",
              "      <td>https://www.youtube.com/</td>\n",
              "      <td>C785xo8eVcJWEPtQtbFwgg==</td>\n",
              "      <td>1626544173303193</td>\n",
              "    </tr>\n",
              "    <tr>\n",
              "      <th>1</th>\n",
              "      <td>https://www.google.com/favicon.ico</td>\n",
              "      <td>LINK</td>\n",
              "      <td>Google Takeout</td>\n",
              "      <td>https://takeout.google.com/settings/takeout?pli=1</td>\n",
              "      <td>C785xo8eVcJWEPtQtbFwgg==</td>\n",
              "      <td>1626544112245772</td>\n",
              "    </tr>\n",
              "    <tr>\n",
              "      <th>2</th>\n",
              "      <td>https://exame.com/wp-content/uploads/2020/05/f...</td>\n",
              "      <td>LINK</td>\n",
              "      <td>Como baixar o relatório de dados que o Google ...</td>\n",
              "      <td>https://exame.com/tecnologia/como-baixar-o-rel...</td>\n",
              "      <td>C785xo8eVcJWEPtQtbFwgg==</td>\n",
              "      <td>1626544096209782</td>\n",
              "    </tr>\n",
              "    <tr>\n",
              "      <th>3</th>\n",
              "      <td>https://support.google.com/favicon.ico</td>\n",
              "      <td>LINK</td>\n",
              "      <td>Informar erros de dados ou conteúdo no Google ...</td>\n",
              "      <td>https://support.google.com/maps/answer/3094088...</td>\n",
              "      <td>C785xo8eVcJWEPtQtbFwgg==</td>\n",
              "      <td>1626543989601060</td>\n",
              "    </tr>\n",
              "    <tr>\n",
              "      <th>4</th>\n",
              "      <td>https://support.google.com/favicon.ico</td>\n",
              "      <td>LINK</td>\n",
              "      <td>Solicitar a propriedade do Perfil de uma empre...</td>\n",
              "      <td>https://support.google.com/business/answer/456...</td>\n",
              "      <td>C785xo8eVcJWEPtQtbFwgg==</td>\n",
              "      <td>1626543981610592</td>\n",
              "    </tr>\n",
              "    <tr>\n",
              "      <th>...</th>\n",
              "      <td>...</td>\n",
              "      <td>...</td>\n",
              "      <td>...</td>\n",
              "      <td>...</td>\n",
              "      <td>...</td>\n",
              "      <td>...</td>\n",
              "    </tr>\n",
              "    <tr>\n",
              "      <th>13064</th>\n",
              "      <td>NaN</td>\n",
              "      <td>FORM_SUBMIT</td>\n",
              "      <td>gesso campo grande rj - Pesquisa Google</td>\n",
              "      <td>https://www.google.com/search?client=ms-androi...</td>\n",
              "      <td>9JwocHYFXsmD0/3fw3LPIw==</td>\n",
              "      <td>1595686962308307</td>\n",
              "    </tr>\n",
              "    <tr>\n",
              "      <th>13065</th>\n",
              "      <td>NaN</td>\n",
              "      <td>LINK</td>\n",
              "      <td>beverly - Pesquisa Google</td>\n",
              "      <td>https://www.google.com/search?q=beverly&amp;oq=bev...</td>\n",
              "      <td>9JwocHYFXsmD0/3fw3LPIw==</td>\n",
              "      <td>1595686954998421</td>\n",
              "    </tr>\n",
              "    <tr>\n",
              "      <th>13066</th>\n",
              "      <td>NaN</td>\n",
              "      <td>RELOAD</td>\n",
              "      <td>beverly - Pesquisa Google</td>\n",
              "      <td>https://www.google.com/search?q=beverly&amp;oq=bev...</td>\n",
              "      <td>9JwocHYFXsmD0/3fw3LPIw==</td>\n",
              "      <td>1595686947761163</td>\n",
              "    </tr>\n",
              "    <tr>\n",
              "      <th>13067</th>\n",
              "      <td>NaN</td>\n",
              "      <td>GENERATED</td>\n",
              "      <td>beverly - Pesquisa Google</td>\n",
              "      <td>https://www.google.com/search?q=beverly&amp;oq=bev...</td>\n",
              "      <td>9JwocHYFXsmD0/3fw3LPIw==</td>\n",
              "      <td>1595643040344252</td>\n",
              "    </tr>\n",
              "    <tr>\n",
              "      <th>13068</th>\n",
              "      <td>NaN</td>\n",
              "      <td>RELOAD</td>\n",
              "      <td>Nova guia</td>\n",
              "      <td>chrome-native://newtab/</td>\n",
              "      <td>9JwocHYFXsmD0/3fw3LPIw==</td>\n",
              "      <td>1595643031065492</td>\n",
              "    </tr>\n",
              "  </tbody>\n",
              "</table>\n",
              "<p>56568 rows × 6 columns</p>\n",
              "</div>"
            ],
            "text/plain": [
              "                                             favicon_url  ...         time_usec\n",
              "0      https://www.youtube.com/s/desktop/a910c60b/img...  ...  1626544173303193\n",
              "1                     https://www.google.com/favicon.ico  ...  1626544112245772\n",
              "2      https://exame.com/wp-content/uploads/2020/05/f...  ...  1626544096209782\n",
              "3                 https://support.google.com/favicon.ico  ...  1626543989601060\n",
              "4                 https://support.google.com/favicon.ico  ...  1626543981610592\n",
              "...                                                  ...  ...               ...\n",
              "13064                                                NaN  ...  1595686962308307\n",
              "13065                                                NaN  ...  1595686954998421\n",
              "13066                                                NaN  ...  1595686947761163\n",
              "13067                                                NaN  ...  1595643040344252\n",
              "13068                                                NaN  ...  1595643031065492\n",
              "\n",
              "[56568 rows x 6 columns]"
            ]
          },
          "metadata": {
            "tags": []
          },
          "execution_count": 10
        }
      ]
    },
    {
      "cell_type": "markdown",
      "metadata": {
        "id": "qgFfDRFs3jg0"
      },
      "source": [
        "### Apagando as colunas que não desejo utilizar"
      ]
    },
    {
      "cell_type": "code",
      "metadata": {
        "id": "VGDj_fsuxE6i"
      },
      "source": [
        "historico_google.drop(columns=['favicon_url','page_transition','client_id'], inplace=True )"
      ],
      "execution_count": null,
      "outputs": []
    },
    {
      "cell_type": "markdown",
      "metadata": {
        "id": "an67fh1mK3HA"
      },
      "source": [
        "### Apagando valores nulos do Dataframe"
      ]
    },
    {
      "cell_type": "code",
      "metadata": {
        "id": "gvfybOSfJzj-"
      },
      "source": [
        "historico_google.dropna(inplace=True)"
      ],
      "execution_count": null,
      "outputs": []
    },
    {
      "cell_type": "markdown",
      "metadata": {
        "id": "vNvMxXMWLNYQ"
      },
      "source": [
        ""
      ]
    },
    {
      "cell_type": "code",
      "metadata": {
        "colab": {
          "base_uri": "https://localhost:8080/",
          "height": 414
        },
        "id": "L49VcA320SHL",
        "outputId": "b24e9239-6e06-4692-eb38-e615fbc8ce3d"
      },
      "source": [
        "historico_google"
      ],
      "execution_count": null,
      "outputs": [
        {
          "output_type": "execute_result",
          "data": {
            "text/html": [
              "<div>\n",
              "<style scoped>\n",
              "    .dataframe tbody tr th:only-of-type {\n",
              "        vertical-align: middle;\n",
              "    }\n",
              "\n",
              "    .dataframe tbody tr th {\n",
              "        vertical-align: top;\n",
              "    }\n",
              "\n",
              "    .dataframe thead th {\n",
              "        text-align: right;\n",
              "    }\n",
              "</style>\n",
              "<table border=\"1\" class=\"dataframe\">\n",
              "  <thead>\n",
              "    <tr style=\"text-align: right;\">\n",
              "      <th></th>\n",
              "      <th>title</th>\n",
              "      <th>url</th>\n",
              "      <th>time_usec</th>\n",
              "    </tr>\n",
              "  </thead>\n",
              "  <tbody>\n",
              "    <tr>\n",
              "      <th>0</th>\n",
              "      <td>(381) YouTube</td>\n",
              "      <td>https://www.youtube.com/</td>\n",
              "      <td>1626544173303193</td>\n",
              "    </tr>\n",
              "    <tr>\n",
              "      <th>1</th>\n",
              "      <td>Google Takeout</td>\n",
              "      <td>https://takeout.google.com/settings/takeout?pli=1</td>\n",
              "      <td>1626544112245772</td>\n",
              "    </tr>\n",
              "    <tr>\n",
              "      <th>2</th>\n",
              "      <td>Como baixar o relatório de dados que o Google ...</td>\n",
              "      <td>https://exame.com/tecnologia/como-baixar-o-rel...</td>\n",
              "      <td>1626544096209782</td>\n",
              "    </tr>\n",
              "    <tr>\n",
              "      <th>3</th>\n",
              "      <td>Informar erros de dados ou conteúdo no Google ...</td>\n",
              "      <td>https://support.google.com/maps/answer/3094088...</td>\n",
              "      <td>1626543989601060</td>\n",
              "    </tr>\n",
              "    <tr>\n",
              "      <th>4</th>\n",
              "      <td>Solicitar a propriedade do Perfil de uma empre...</td>\n",
              "      <td>https://support.google.com/business/answer/456...</td>\n",
              "      <td>1626543981610592</td>\n",
              "    </tr>\n",
              "    <tr>\n",
              "      <th>...</th>\n",
              "      <td>...</td>\n",
              "      <td>...</td>\n",
              "      <td>...</td>\n",
              "    </tr>\n",
              "    <tr>\n",
              "      <th>13064</th>\n",
              "      <td>gesso campo grande rj - Pesquisa Google</td>\n",
              "      <td>https://www.google.com/search?client=ms-androi...</td>\n",
              "      <td>1595686962308307</td>\n",
              "    </tr>\n",
              "    <tr>\n",
              "      <th>13065</th>\n",
              "      <td>beverly - Pesquisa Google</td>\n",
              "      <td>https://www.google.com/search?q=beverly&amp;oq=bev...</td>\n",
              "      <td>1595686954998421</td>\n",
              "    </tr>\n",
              "    <tr>\n",
              "      <th>13066</th>\n",
              "      <td>beverly - Pesquisa Google</td>\n",
              "      <td>https://www.google.com/search?q=beverly&amp;oq=bev...</td>\n",
              "      <td>1595686947761163</td>\n",
              "    </tr>\n",
              "    <tr>\n",
              "      <th>13067</th>\n",
              "      <td>beverly - Pesquisa Google</td>\n",
              "      <td>https://www.google.com/search?q=beverly&amp;oq=bev...</td>\n",
              "      <td>1595643040344252</td>\n",
              "    </tr>\n",
              "    <tr>\n",
              "      <th>13068</th>\n",
              "      <td>Nova guia</td>\n",
              "      <td>chrome-native://newtab/</td>\n",
              "      <td>1595643031065492</td>\n",
              "    </tr>\n",
              "  </tbody>\n",
              "</table>\n",
              "<p>56568 rows × 3 columns</p>\n",
              "</div>"
            ],
            "text/plain": [
              "                                                   title  ...         time_usec\n",
              "0                                          (381) YouTube  ...  1626544173303193\n",
              "1                                         Google Takeout  ...  1626544112245772\n",
              "2      Como baixar o relatório de dados que o Google ...  ...  1626544096209782\n",
              "3      Informar erros de dados ou conteúdo no Google ...  ...  1626543989601060\n",
              "4      Solicitar a propriedade do Perfil de uma empre...  ...  1626543981610592\n",
              "...                                                  ...  ...               ...\n",
              "13064            gesso campo grande rj - Pesquisa Google  ...  1595686962308307\n",
              "13065                          beverly - Pesquisa Google  ...  1595686954998421\n",
              "13066                          beverly - Pesquisa Google  ...  1595686947761163\n",
              "13067                          beverly - Pesquisa Google  ...  1595643040344252\n",
              "13068                                          Nova guia  ...  1595643031065492\n",
              "\n",
              "[56568 rows x 3 columns]"
            ]
          },
          "metadata": {
            "tags": []
          },
          "execution_count": 13
        }
      ]
    },
    {
      "cell_type": "markdown",
      "metadata": {
        "id": "M-o4HeZBgx8i"
      },
      "source": [
        "### Transformando dados do tipo int em Datetime"
      ]
    },
    {
      "cell_type": "code",
      "metadata": {
        "id": "IxTamV-qEIkH"
      },
      "source": [
        "historico_google['time_usec'] = historico_google['time_usec'].apply(lambda x : pd.to_datetime(datetime.fromtimestamp(x/1e6).strftime('%d/%m/%Y'),unit='ns', errors='ignore'))"
      ],
      "execution_count": null,
      "outputs": []
    },
    {
      "cell_type": "markdown",
      "metadata": {
        "id": "ImI-n-agr38R"
      },
      "source": [
        "### Confirmando se alterações foram realizadas com sucesso!"
      ]
    },
    {
      "cell_type": "code",
      "metadata": {
        "colab": {
          "base_uri": "https://localhost:8080/"
        },
        "id": "pumD-ZzXhXfD",
        "outputId": "94b89a57-b865-46c1-dacc-5db9ac3da150"
      },
      "source": [
        "historico_google.info()"
      ],
      "execution_count": null,
      "outputs": [
        {
          "output_type": "stream",
          "text": [
            "<class 'pandas.core.frame.DataFrame'>\n",
            "Int64Index: 56568 entries, 0 to 13068\n",
            "Data columns (total 3 columns):\n",
            " #   Column     Non-Null Count  Dtype         \n",
            "---  ------     --------------  -----         \n",
            " 0   title      56568 non-null  object        \n",
            " 1   url        56568 non-null  object        \n",
            " 2   time_usec  56568 non-null  datetime64[ns]\n",
            "dtypes: datetime64[ns](1), object(2)\n",
            "memory usage: 1.7+ MB\n"
          ],
          "name": "stdout"
        }
      ]
    },
    {
      "cell_type": "markdown",
      "metadata": {
        "id": "DsGvtihssBm1"
      },
      "source": [
        "### Renomeando colunas do Dataframe"
      ]
    },
    {
      "cell_type": "code",
      "metadata": {
        "id": "J3xdXLBp6mdA"
      },
      "source": [
        "historico_google.rename(columns={'title':'titulo','url':'url','time_usec':'data'},inplace=True)"
      ],
      "execution_count": null,
      "outputs": []
    },
    {
      "cell_type": "markdown",
      "metadata": {
        "id": "ThusQwbOsGhc"
      },
      "source": [
        "### Confirmando as alterações realizadas"
      ]
    },
    {
      "cell_type": "code",
      "metadata": {
        "id": "X6mpsCpNHF03",
        "colab": {
          "base_uri": "https://localhost:8080/",
          "height": 414
        },
        "outputId": "35bdd17f-5d79-43ea-992e-85df83fe841c"
      },
      "source": [
        "historico_google"
      ],
      "execution_count": null,
      "outputs": [
        {
          "output_type": "execute_result",
          "data": {
            "text/html": [
              "<div>\n",
              "<style scoped>\n",
              "    .dataframe tbody tr th:only-of-type {\n",
              "        vertical-align: middle;\n",
              "    }\n",
              "\n",
              "    .dataframe tbody tr th {\n",
              "        vertical-align: top;\n",
              "    }\n",
              "\n",
              "    .dataframe thead th {\n",
              "        text-align: right;\n",
              "    }\n",
              "</style>\n",
              "<table border=\"1\" class=\"dataframe\">\n",
              "  <thead>\n",
              "    <tr style=\"text-align: right;\">\n",
              "      <th></th>\n",
              "      <th>titulo</th>\n",
              "      <th>url</th>\n",
              "      <th>data</th>\n",
              "    </tr>\n",
              "  </thead>\n",
              "  <tbody>\n",
              "    <tr>\n",
              "      <th>0</th>\n",
              "      <td>(381) YouTube</td>\n",
              "      <td>https://www.youtube.com/</td>\n",
              "      <td>2021-07-17</td>\n",
              "    </tr>\n",
              "    <tr>\n",
              "      <th>1</th>\n",
              "      <td>Google Takeout</td>\n",
              "      <td>https://takeout.google.com/settings/takeout?pli=1</td>\n",
              "      <td>2021-07-17</td>\n",
              "    </tr>\n",
              "    <tr>\n",
              "      <th>2</th>\n",
              "      <td>Como baixar o relatório de dados que o Google ...</td>\n",
              "      <td>https://exame.com/tecnologia/como-baixar-o-rel...</td>\n",
              "      <td>2021-07-17</td>\n",
              "    </tr>\n",
              "    <tr>\n",
              "      <th>3</th>\n",
              "      <td>Informar erros de dados ou conteúdo no Google ...</td>\n",
              "      <td>https://support.google.com/maps/answer/3094088...</td>\n",
              "      <td>2021-07-17</td>\n",
              "    </tr>\n",
              "    <tr>\n",
              "      <th>4</th>\n",
              "      <td>Solicitar a propriedade do Perfil de uma empre...</td>\n",
              "      <td>https://support.google.com/business/answer/456...</td>\n",
              "      <td>2021-07-17</td>\n",
              "    </tr>\n",
              "    <tr>\n",
              "      <th>...</th>\n",
              "      <td>...</td>\n",
              "      <td>...</td>\n",
              "      <td>...</td>\n",
              "    </tr>\n",
              "    <tr>\n",
              "      <th>13064</th>\n",
              "      <td>gesso campo grande rj - Pesquisa Google</td>\n",
              "      <td>https://www.google.com/search?client=ms-androi...</td>\n",
              "      <td>2020-07-25</td>\n",
              "    </tr>\n",
              "    <tr>\n",
              "      <th>13065</th>\n",
              "      <td>beverly - Pesquisa Google</td>\n",
              "      <td>https://www.google.com/search?q=beverly&amp;oq=bev...</td>\n",
              "      <td>2020-07-25</td>\n",
              "    </tr>\n",
              "    <tr>\n",
              "      <th>13066</th>\n",
              "      <td>beverly - Pesquisa Google</td>\n",
              "      <td>https://www.google.com/search?q=beverly&amp;oq=bev...</td>\n",
              "      <td>2020-07-25</td>\n",
              "    </tr>\n",
              "    <tr>\n",
              "      <th>13067</th>\n",
              "      <td>beverly - Pesquisa Google</td>\n",
              "      <td>https://www.google.com/search?q=beverly&amp;oq=bev...</td>\n",
              "      <td>2020-07-25</td>\n",
              "    </tr>\n",
              "    <tr>\n",
              "      <th>13068</th>\n",
              "      <td>Nova guia</td>\n",
              "      <td>chrome-native://newtab/</td>\n",
              "      <td>2020-07-25</td>\n",
              "    </tr>\n",
              "  </tbody>\n",
              "</table>\n",
              "<p>56568 rows × 3 columns</p>\n",
              "</div>"
            ],
            "text/plain": [
              "                                                  titulo  ...       data\n",
              "0                                          (381) YouTube  ... 2021-07-17\n",
              "1                                         Google Takeout  ... 2021-07-17\n",
              "2      Como baixar o relatório de dados que o Google ...  ... 2021-07-17\n",
              "3      Informar erros de dados ou conteúdo no Google ...  ... 2021-07-17\n",
              "4      Solicitar a propriedade do Perfil de uma empre...  ... 2021-07-17\n",
              "...                                                  ...  ...        ...\n",
              "13064            gesso campo grande rj - Pesquisa Google  ... 2020-07-25\n",
              "13065                          beverly - Pesquisa Google  ... 2020-07-25\n",
              "13066                          beverly - Pesquisa Google  ... 2020-07-25\n",
              "13067                          beverly - Pesquisa Google  ... 2020-07-25\n",
              "13068                                          Nova guia  ... 2020-07-25\n",
              "\n",
              "[56568 rows x 3 columns]"
            ]
          },
          "metadata": {
            "tags": []
          },
          "execution_count": 18
        }
      ]
    },
    {
      "cell_type": "markdown",
      "metadata": {
        "id": "uF-OWCguP9pE"
      },
      "source": [
        "### Apagando termos específicos do Dataframe"
      ]
    },
    {
      "cell_type": "code",
      "metadata": {
        "id": "AAhjRF8kN3RE"
      },
      "source": [
        "historico_google['titulo']=historico_google['titulo'].map(lambda x: x.lstrip(' '))"
      ],
      "execution_count": null,
      "outputs": []
    },
    {
      "cell_type": "code",
      "metadata": {
        "id": "S-i6EetuOKfo"
      },
      "source": [
        "historico_google['titulo']=historico_google['titulo'].map(lambda x: x.lstrip('Redirect'))"
      ],
      "execution_count": null,
      "outputs": []
    },
    {
      "cell_type": "markdown",
      "metadata": {
        "id": "F28RFrzUQLxE"
      },
      "source": [
        "### Realizando contagem de acesso organizado por meio do mais acessado ao menos acessado"
      ]
    },
    {
      "cell_type": "code",
      "metadata": {
        "id": "AQiLeDUSN_py",
        "colab": {
          "base_uri": "https://localhost:8080/"
        },
        "outputId": "fbcbbd79-e947-4669-8b07-2880e2606bb1"
      },
      "source": [
        "historico_google['titulo'].value_counts()"
      ],
      "execution_count": null,
      "outputs": [
        {
          "output_type": "execute_result",
          "data": {
            "text/plain": [
              "Nova guia                                                                                             4651\n",
              "globo.com - Absolutamente tudo sobre notícias, esportes e entretenimento                              2842\n",
              "                                                                                                      2360\n",
              "Play Kahoot! - Enter game PIN here!                                                                    511\n",
              "Google                                                                                                 485\n",
              "                                                                                                      ... \n",
              "(80) oracle developer - YouTube                                                                          1\n",
              "Museus Castro Maya                                                                                       1\n",
              "Como fazer a consulta e o registro da inscrição estadual para o MEI | Portal de Atendimento SEBRAE       1\n",
              "assistir online fenomenos paranormais - Pesquisa Google                                                  1\n",
              "Celebrating your first month at GitHub - marianlimadocarmo@gmail.com - Gmail                             1\n",
              "Name: titulo, Length: 12845, dtype: int64"
            ]
          },
          "metadata": {
            "tags": []
          },
          "execution_count": 21
        }
      ]
    },
    {
      "cell_type": "markdown",
      "metadata": {
        "id": "HgeRDXXWsL6y"
      },
      "source": [
        "### Realizando pesquisa de termos específicos do Dataframe"
      ]
    },
    {
      "cell_type": "code",
      "metadata": {
        "id": "4QZ6GXaAcDse"
      },
      "source": [
        "pesquisas_sobre_dados = historico_google.query('titulo.str.contains(\"Python\") | titulo.str.contains(\"Dados\") | titulo.str.contains(\"Análise\")\\\n",
        "| titulo.str.contains(\"Programação\") |titulo.str.contains(\"Data\") |titulo.str.contains(\"analysis\")', engine='python')"
      ],
      "execution_count": null,
      "outputs": []
    },
    {
      "cell_type": "markdown",
      "metadata": {
        "id": "xOWbsiYMdeCN"
      },
      "source": [
        "### Criando novo Dataframe para pesquisar termos específicos em intervalo de tempo"
      ]
    },
    {
      "cell_type": "code",
      "metadata": {
        "id": "ZaxXx5FAcVQw",
        "colab": {
          "base_uri": "https://localhost:8080/"
        },
        "outputId": "632b193b-4d86-4866-f9fa-2df4f6153c54"
      },
      "source": [
        "antes_do_vamoai = pesquisas_sobre_dados.loc[(pesquisas_sobre_dados['data'] > '2020-07-01') & (pesquisas_sobre_dados['data'] < '2021-01-25')]\n",
        "antes_do_vamoai['titulo'].value_counts()"
      ],
      "execution_count": null,
      "outputs": [
        {
          "output_type": "execute_result",
          "data": {
            "text/plain": [
              "Merchant Portal | First Data                                                                               26\n",
              "Governança e Qualidade de Dados: aulas online para Enem e Vestibulares | Descomplica                        7\n",
              "Welcome to Python.org                                                                                       7\n",
              "Aula 2 - Para que serve o Python? - Curso em Vídeo                                                          7\n",
              "Exercícios - Implantando a Governança de Dados                                                              7\n",
              "                                                                                                           ..\n",
              "Confirmação Necessária - Intensivão de Python - marianlimadocarmo@gmail.com - Gmail                         1\n",
              "(175) Exercício Python #011 - Pintando Parede - YouTube                                                     1\n",
              "Exercicios-Python/008 - Conversor de Medidas.py at master · andreinaoliveira/Exercicios-Python · GitHub     1\n",
              "Eu fiz um dos melhores cursos de Programação do Mundo! (minhas impressões) - YouTube                        1\n",
              "(175) Exercício Python #016 - Quebrando um número - YouTube                                                 1\n",
              "Name: titulo, Length: 106, dtype: int64"
            ]
          },
          "metadata": {
            "tags": []
          },
          "execution_count": 23
        }
      ]
    },
    {
      "cell_type": "markdown",
      "metadata": {
        "id": "IRpFye8xspeA"
      },
      "source": [
        "### Realizando consulta de termos específicos em período de tempo específico"
      ]
    },
    {
      "cell_type": "code",
      "metadata": {
        "id": "sIasonBhjWyP",
        "colab": {
          "base_uri": "https://localhost:8080/"
        },
        "outputId": "d1a8c8be-33b1-4bc2-8c01-16ecac593206"
      },
      "source": [
        "terceiro_modulo = pesquisas_sobre_dados.loc[(pesquisas_sobre_dados['data'] > '2021-04-12') & (pesquisas_sobre_dados['data'] < '2021-06-04')]\n",
        "terceiro_modulo['titulo'].value_counts()"
      ],
      "execution_count": null,
      "outputs": [
        {
          "output_type": "execute_result",
          "data": {
            "text/plain": [
              "Dados Prestador Médico - vanessacarolinamelodlima@gmail.com - Gmail                                     18\n",
              "serenozin/DataVizu_VamoAI                                                                               14\n",
              "DataVizu_VamoAI/perguntas-projeto-lol.sql at main · serenozin/DataVizu_VamoAI                            6\n",
              "Python 3 parte 1: Aula 3 - Atividade 1 A condição elif | Alura - Cursos online de tecnologia             6\n",
              "Dados do pedido                                                                                          5\n",
              "                                                                                                        ..\n",
              "Criando ambientes virtuais para projetos Python com o Virtualenv - Blog da TreinaWeb                     1\n",
              "Food oferece curso gratuito em Ciência de Dados para pessoas de baixa renda - Canaltech                  1\n",
              "(198) Introdução à Programação com Python - Parte 1 - YouTube                                            1\n",
              "Python 3 parte 1: Aula 2 - Atividade 5 Onde foi que ela errou? | Alura - Cursos online de tecnologia     1\n",
              "Palavras aleatórias - Pense em Python                                                                    1\n",
              "Name: titulo, Length: 83, dtype: int64"
            ]
          },
          "metadata": {
            "tags": []
          },
          "execution_count": 24
        }
      ]
    },
    {
      "cell_type": "markdown",
      "metadata": {
        "id": "rGuVGowX339h"
      },
      "source": [
        "### Transformando o Dataframe em arquivo csv"
      ]
    },
    {
      "cell_type": "code",
      "metadata": {
        "id": "NbTvhzey38YQ"
      },
      "source": [
        "historico_google.to_csv ('historico_pesquisa_google.csv',index=False)"
      ],
      "execution_count": null,
      "outputs": []
    },
    {
      "cell_type": "code",
      "metadata": {
        "colab": {
          "base_uri": "https://localhost:8080/",
          "height": 16
        },
        "id": "BlM6Lrqs4Gyr",
        "outputId": "7c319404-02ef-4e86-9a01-042f77c9b2d1"
      },
      "source": [
        "from google.colab import files\n",
        "files.download(\"historico_pesquisa_google.csv\")"
      ],
      "execution_count": null,
      "outputs": [
        {
          "output_type": "display_data",
          "data": {
            "application/javascript": [
              "\n",
              "    async function download(id, filename, size) {\n",
              "      if (!google.colab.kernel.accessAllowed) {\n",
              "        return;\n",
              "      }\n",
              "      const div = document.createElement('div');\n",
              "      const label = document.createElement('label');\n",
              "      label.textContent = `Downloading \"${filename}\": `;\n",
              "      div.appendChild(label);\n",
              "      const progress = document.createElement('progress');\n",
              "      progress.max = size;\n",
              "      div.appendChild(progress);\n",
              "      document.body.appendChild(div);\n",
              "\n",
              "      const buffers = [];\n",
              "      let downloaded = 0;\n",
              "\n",
              "      const channel = await google.colab.kernel.comms.open(id);\n",
              "      // Send a message to notify the kernel that we're ready.\n",
              "      channel.send({})\n",
              "\n",
              "      for await (const message of channel.messages) {\n",
              "        // Send a message to notify the kernel that we're ready.\n",
              "        channel.send({})\n",
              "        if (message.buffers) {\n",
              "          for (const buffer of message.buffers) {\n",
              "            buffers.push(buffer);\n",
              "            downloaded += buffer.byteLength;\n",
              "            progress.value = downloaded;\n",
              "          }\n",
              "        }\n",
              "      }\n",
              "      const blob = new Blob(buffers, {type: 'application/binary'});\n",
              "      const a = document.createElement('a');\n",
              "      a.href = window.URL.createObjectURL(blob);\n",
              "      a.download = filename;\n",
              "      div.appendChild(a);\n",
              "      a.click();\n",
              "      div.remove();\n",
              "    }\n",
              "  "
            ],
            "text/plain": [
              "<IPython.core.display.Javascript object>"
            ]
          },
          "metadata": {
            "tags": []
          }
        },
        {
          "output_type": "display_data",
          "data": {
            "application/javascript": [
              "download(\"download_3ee1772a-6d9b-4a56-b0d6-d9461f721f22\", \"historico_pesquisa_google.csv\", 9468388)"
            ],
            "text/plain": [
              "<IPython.core.display.Javascript object>"
            ]
          },
          "metadata": {
            "tags": []
          }
        }
      ]
    }
  ]
}