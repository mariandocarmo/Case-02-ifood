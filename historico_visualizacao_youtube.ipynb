{
  "nbformat": 4,
  "nbformat_minor": 0,
  "metadata": {
    "colab": {
      "name": "historico-visualizacao-youtube.ipynb",
      "provenance": [],
      "collapsed_sections": []
    },
    "kernelspec": {
      "name": "python3",
      "display_name": "Python 3"
    },
    "language_info": {
      "name": "python"
    }
  },
  "cells": [
    {
      "cell_type": "code",
      "metadata": {
        "colab": {
          "base_uri": "https://localhost:8080/"
        },
        "id": "_hsqhsX2DOXj",
        "outputId": "08dc3ead-0f77-4a1f-936b-23f9dad73811"
      },
      "source": [
        "%ls"
      ],
      "execution_count": null,
      "outputs": [
        {
          "output_type": "stream",
          "text": [
            "\u001b[0m\u001b[01;34mdrive\u001b[0m/  \u001b[01;34msample_data\u001b[0m/\n"
          ],
          "name": "stdout"
        }
      ]
    },
    {
      "cell_type": "code",
      "metadata": {
        "colab": {
          "base_uri": "https://localhost:8080/"
        },
        "id": "cS8frr6IDkDV",
        "outputId": "9ffab9e9-ef03-407f-9aa4-53b6c8850b83"
      },
      "source": [
        "%cd /content/drive/MyDrive/projeto-final-vamoai"
      ],
      "execution_count": null,
      "outputs": [
        {
          "output_type": "stream",
          "text": [
            "/content/drive/MyDrive/projeto-final-vamoai\n"
          ],
          "name": "stdout"
        }
      ]
    },
    {
      "cell_type": "markdown",
      "metadata": {
        "id": "WpOllLKzv81m"
      },
      "source": [
        "### Importando bibliotecas necessárias para criação e modificações no Dataframe"
      ]
    },
    {
      "cell_type": "code",
      "metadata": {
        "id": "kkyowbSNDm_4"
      },
      "source": [
        "import pandas as pd\n",
        "import json\n",
        "import csv"
      ],
      "execution_count": null,
      "outputs": []
    },
    {
      "cell_type": "code",
      "metadata": {
        "id": "LDnX7nyiDpLL"
      },
      "source": [
        "from pandas import json_normalize\n",
        "from pathlib import Path\n",
        "from datetime import datetime"
      ],
      "execution_count": null,
      "outputs": []
    },
    {
      "cell_type": "markdown",
      "metadata": {
        "id": "M35tWg3MwFYG"
      },
      "source": [
        "### Criando a conexão com o arquivo no google drive e criando um dataframe"
      ]
    },
    {
      "cell_type": "code",
      "metadata": {
        "id": "I6bYrmX8Dq8u"
      },
      "source": [
        "p = Path(r'/content/drive/MyDrive/projeto-final-vamoai/histórico-de-visualização.json')\n",
        "with p.open('r', encoding='utf-8') as f:\n",
        "    data = json.loads(f.read())\n",
        "df = pd.json_normalize(data)\n"
      ],
      "execution_count": null,
      "outputs": []
    },
    {
      "cell_type": "markdown",
      "metadata": {
        "id": "LoPIiO6bwKZE"
      },
      "source": [
        "### Transformando JSON em Dataframe, apagando as colunas que não desejo utilizar e criando um segundo dataframe"
      ]
    },
    {
      "cell_type": "code",
      "metadata": {
        "id": "SDF-Bq0CD7HN"
      },
      "source": [
        "visualizacao_youtube = pd.json_normalize(data)\n",
        "visualizacao_youtube.drop(columns=['header','titleUrl','products','details'], inplace=True )"
      ],
      "execution_count": null,
      "outputs": []
    },
    {
      "cell_type": "markdown",
      "metadata": {
        "id": "kZiEMo2ixBy_"
      },
      "source": [
        "### Eliminando valores nulos"
      ]
    },
    {
      "cell_type": "code",
      "metadata": {
        "id": "7vGby_hOSLgA"
      },
      "source": [
        "visualizacao_youtube.dropna(inplace=True)"
      ],
      "execution_count": null,
      "outputs": []
    },
    {
      "cell_type": "markdown",
      "metadata": {
        "id": "qA4dgLUVxHmA"
      },
      "source": [
        "### Redefinindo o index"
      ]
    },
    {
      "cell_type": "code",
      "metadata": {
        "id": "jO7oOq4HSdEn"
      },
      "source": [
        "visualizacao_youtube.reset_index(inplace=True)"
      ],
      "execution_count": null,
      "outputs": []
    },
    {
      "cell_type": "markdown",
      "metadata": {
        "id": "-kZvuh6AxaKG"
      },
      "source": [
        "### Apagando as o indice\n"
      ]
    },
    {
      "cell_type": "code",
      "metadata": {
        "id": "h7pCbOKvShZS"
      },
      "source": [
        "visualizacao_youtube.drop(columns='index', inplace=True)"
      ],
      "execution_count": null,
      "outputs": []
    },
    {
      "cell_type": "markdown",
      "metadata": {
        "id": "sxghamPRxtx3"
      },
      "source": [
        "### Consultando o Dataframe"
      ]
    },
    {
      "cell_type": "code",
      "metadata": {
        "colab": {
          "base_uri": "https://localhost:8080/",
          "height": 202
        },
        "id": "jNO0pRShEMlS",
        "outputId": "536cee99-fbf5-4170-eeb9-31fbf66ae424"
      },
      "source": [
        "visualizacao_youtube.head()"
      ],
      "execution_count": null,
      "outputs": [
        {
          "output_type": "execute_result",
          "data": {
            "text/html": [
              "<div>\n",
              "<style scoped>\n",
              "    .dataframe tbody tr th:only-of-type {\n",
              "        vertical-align: middle;\n",
              "    }\n",
              "\n",
              "    .dataframe tbody tr th {\n",
              "        vertical-align: top;\n",
              "    }\n",
              "\n",
              "    .dataframe thead th {\n",
              "        text-align: right;\n",
              "    }\n",
              "</style>\n",
              "<table border=\"1\" class=\"dataframe\">\n",
              "  <thead>\n",
              "    <tr style=\"text-align: right;\">\n",
              "      <th></th>\n",
              "      <th>title</th>\n",
              "      <th>subtitles</th>\n",
              "      <th>time</th>\n",
              "    </tr>\n",
              "  </thead>\n",
              "  <tbody>\n",
              "    <tr>\n",
              "      <th>0</th>\n",
              "      <td>Watched História da vida de Santa Brígida da S...</td>\n",
              "      <td>[{'name': 'Expedição 19', 'url': 'https://www....</td>\n",
              "      <td>2021-07-19T22:30:43.073Z</td>\n",
              "    </tr>\n",
              "    <tr>\n",
              "      <th>1</th>\n",
              "      <td>Watched A Regra mais Importante do STORYTELLIN...</td>\n",
              "      <td>[{'name': 'Fantástica Fábrica Criativa', 'url'...</td>\n",
              "      <td>2021-07-19T04:48:09.570Z</td>\n",
              "    </tr>\n",
              "    <tr>\n",
              "      <th>2</th>\n",
              "      <td>Watched Gabrielle Aplin - Home (Official Video)</td>\n",
              "      <td>[{'name': 'Gabrielle Aplin VEVO', 'url': 'http...</td>\n",
              "      <td>2021-07-19T01:22:56.032Z</td>\n",
              "    </tr>\n",
              "    <tr>\n",
              "      <th>3</th>\n",
              "      <td>Watched Python JSON to CSV conversion</td>\n",
              "      <td>[{'name': 'DevNami', 'url': 'https://www.youtu...</td>\n",
              "      <td>2021-07-18T02:53:51.073Z</td>\n",
              "    </tr>\n",
              "    <tr>\n",
              "      <th>4</th>\n",
              "      <td>Watched Json to csv convert using python easily</td>\n",
              "      <td>[{'name': 'IT TECH TARUN', 'url': 'https://www...</td>\n",
              "      <td>2021-07-18T02:44:07.432Z</td>\n",
              "    </tr>\n",
              "  </tbody>\n",
              "</table>\n",
              "</div>"
            ],
            "text/plain": [
              "                                               title  ...                      time\n",
              "0  Watched História da vida de Santa Brígida da S...  ...  2021-07-19T22:30:43.073Z\n",
              "1  Watched A Regra mais Importante do STORYTELLIN...  ...  2021-07-19T04:48:09.570Z\n",
              "2    Watched Gabrielle Aplin - Home (Official Video)  ...  2021-07-19T01:22:56.032Z\n",
              "3              Watched Python JSON to CSV conversion  ...  2021-07-18T02:53:51.073Z\n",
              "4    Watched Json to csv convert using python easily  ...  2021-07-18T02:44:07.432Z\n",
              "\n",
              "[5 rows x 3 columns]"
            ]
          },
          "metadata": {
            "tags": []
          },
          "execution_count": 11
        }
      ]
    },
    {
      "cell_type": "markdown",
      "metadata": {
        "id": "uATiFv4lx00V"
      },
      "source": [
        "### Consultando os tipos de dados do Dataframe"
      ]
    },
    {
      "cell_type": "code",
      "metadata": {
        "colab": {
          "base_uri": "https://localhost:8080/"
        },
        "id": "VL3lB9kbEk11",
        "outputId": "f00f2f06-a806-4f60-ec72-a0b9b91bec70"
      },
      "source": [
        "visualizacao_youtube.info()"
      ],
      "execution_count": null,
      "outputs": [
        {
          "output_type": "stream",
          "text": [
            "<class 'pandas.core.frame.DataFrame'>\n",
            "RangeIndex: 2293 entries, 0 to 2292\n",
            "Data columns (total 3 columns):\n",
            " #   Column     Non-Null Count  Dtype \n",
            "---  ------     --------------  ----- \n",
            " 0   title      2293 non-null   object\n",
            " 1   subtitles  2293 non-null   object\n",
            " 2   time       2293 non-null   object\n",
            "dtypes: object(3)\n",
            "memory usage: 53.9+ KB\n"
          ],
          "name": "stdout"
        }
      ]
    },
    {
      "cell_type": "markdown",
      "metadata": {
        "id": "v9THoqa6ylSm"
      },
      "source": [
        "### Transformando object em datetime em três etapas."
      ]
    },
    {
      "cell_type": "code",
      "metadata": {
        "id": "UXxWW4sl3kP8"
      },
      "source": [
        "# 1º etapa:\n",
        "visualizacao_youtube[\"time\"]= pd.to_datetime(visualizacao_youtube[\"time\"],unit='ns', errors='ignore')"
      ],
      "execution_count": null,
      "outputs": []
    },
    {
      "cell_type": "code",
      "metadata": {
        "id": "ETELKKdH-KKi"
      },
      "source": [
        "# 2º etapa:\n",
        "visualizacao_youtube['time'] = visualizacao_youtube['time'].dt.tz_convert(None)"
      ],
      "execution_count": null,
      "outputs": []
    },
    {
      "cell_type": "code",
      "metadata": {
        "id": "g05AJv1UD7Xn"
      },
      "source": [
        "# 3º etapa:\n",
        "visualizacao_youtube[\"time\"] = pd.to_datetime(visualizacao_youtube[\"time\"].dt.strftime('%d/%m/%Y'))"
      ],
      "execution_count": null,
      "outputs": []
    },
    {
      "cell_type": "markdown",
      "metadata": {
        "id": "Au6nSGUZzKxA"
      },
      "source": [
        "### Confirmando se a conversão ocorreu com sucesso."
      ]
    },
    {
      "cell_type": "code",
      "metadata": {
        "colab": {
          "base_uri": "https://localhost:8080/",
          "height": 202
        },
        "id": "QOW03N0FFFNA",
        "outputId": "433f059a-a2b2-497f-a6c7-af694839ffe5"
      },
      "source": [
        "visualizacao_youtube.head()"
      ],
      "execution_count": null,
      "outputs": [
        {
          "output_type": "execute_result",
          "data": {
            "text/html": [
              "<div>\n",
              "<style scoped>\n",
              "    .dataframe tbody tr th:only-of-type {\n",
              "        vertical-align: middle;\n",
              "    }\n",
              "\n",
              "    .dataframe tbody tr th {\n",
              "        vertical-align: top;\n",
              "    }\n",
              "\n",
              "    .dataframe thead th {\n",
              "        text-align: right;\n",
              "    }\n",
              "</style>\n",
              "<table border=\"1\" class=\"dataframe\">\n",
              "  <thead>\n",
              "    <tr style=\"text-align: right;\">\n",
              "      <th></th>\n",
              "      <th>title</th>\n",
              "      <th>subtitles</th>\n",
              "      <th>time</th>\n",
              "    </tr>\n",
              "  </thead>\n",
              "  <tbody>\n",
              "    <tr>\n",
              "      <th>0</th>\n",
              "      <td>Watched História da vida de Santa Brígida da S...</td>\n",
              "      <td>[{'name': 'Expedição 19', 'url': 'https://www....</td>\n",
              "      <td>2021-07-19</td>\n",
              "    </tr>\n",
              "    <tr>\n",
              "      <th>1</th>\n",
              "      <td>Watched A Regra mais Importante do STORYTELLIN...</td>\n",
              "      <td>[{'name': 'Fantástica Fábrica Criativa', 'url'...</td>\n",
              "      <td>2021-07-19</td>\n",
              "    </tr>\n",
              "    <tr>\n",
              "      <th>2</th>\n",
              "      <td>Watched Gabrielle Aplin - Home (Official Video)</td>\n",
              "      <td>[{'name': 'Gabrielle Aplin VEVO', 'url': 'http...</td>\n",
              "      <td>2021-07-19</td>\n",
              "    </tr>\n",
              "    <tr>\n",
              "      <th>3</th>\n",
              "      <td>Watched Python JSON to CSV conversion</td>\n",
              "      <td>[{'name': 'DevNami', 'url': 'https://www.youtu...</td>\n",
              "      <td>2021-07-18</td>\n",
              "    </tr>\n",
              "    <tr>\n",
              "      <th>4</th>\n",
              "      <td>Watched Json to csv convert using python easily</td>\n",
              "      <td>[{'name': 'IT TECH TARUN', 'url': 'https://www...</td>\n",
              "      <td>2021-07-18</td>\n",
              "    </tr>\n",
              "  </tbody>\n",
              "</table>\n",
              "</div>"
            ],
            "text/plain": [
              "                                               title  ...       time\n",
              "0  Watched História da vida de Santa Brígida da S...  ... 2021-07-19\n",
              "1  Watched A Regra mais Importante do STORYTELLIN...  ... 2021-07-19\n",
              "2    Watched Gabrielle Aplin - Home (Official Video)  ... 2021-07-19\n",
              "3              Watched Python JSON to CSV conversion  ... 2021-07-18\n",
              "4    Watched Json to csv convert using python easily  ... 2021-07-18\n",
              "\n",
              "[5 rows x 3 columns]"
            ]
          },
          "metadata": {
            "tags": []
          },
          "execution_count": 16
        }
      ]
    },
    {
      "cell_type": "markdown",
      "metadata": {
        "id": "XHc5KXWQKMz4"
      },
      "source": [
        "### Apagando termo indejado das linhas. Neste caso a palavra: 'Watched'"
      ]
    },
    {
      "cell_type": "code",
      "metadata": {
        "id": "xuL8LiJBJd8U"
      },
      "source": [
        "visualizacao_youtube['title']=visualizacao_youtube['title'].map(lambda x: x.lstrip('Watched'))"
      ],
      "execution_count": null,
      "outputs": []
    },
    {
      "cell_type": "code",
      "metadata": {
        "colab": {
          "base_uri": "https://localhost:8080/",
          "height": 202
        },
        "id": "dr3Nma9ZJ7C3",
        "outputId": "9b4768c6-fe02-4528-f1d8-64b900655642"
      },
      "source": [
        "visualizacao_youtube.head()"
      ],
      "execution_count": null,
      "outputs": [
        {
          "output_type": "execute_result",
          "data": {
            "text/html": [
              "<div>\n",
              "<style scoped>\n",
              "    .dataframe tbody tr th:only-of-type {\n",
              "        vertical-align: middle;\n",
              "    }\n",
              "\n",
              "    .dataframe tbody tr th {\n",
              "        vertical-align: top;\n",
              "    }\n",
              "\n",
              "    .dataframe thead th {\n",
              "        text-align: right;\n",
              "    }\n",
              "</style>\n",
              "<table border=\"1\" class=\"dataframe\">\n",
              "  <thead>\n",
              "    <tr style=\"text-align: right;\">\n",
              "      <th></th>\n",
              "      <th>title</th>\n",
              "      <th>subtitles</th>\n",
              "      <th>time</th>\n",
              "    </tr>\n",
              "  </thead>\n",
              "  <tbody>\n",
              "    <tr>\n",
              "      <th>0</th>\n",
              "      <td>História da vida de Santa Brígida da Suécia (...</td>\n",
              "      <td>[{'name': 'Expedição 19', 'url': 'https://www....</td>\n",
              "      <td>2021-07-19</td>\n",
              "    </tr>\n",
              "    <tr>\n",
              "      <th>1</th>\n",
              "      <td>A Regra mais Importante do STORYTELLING!!! / ...</td>\n",
              "      <td>[{'name': 'Fantástica Fábrica Criativa', 'url'...</td>\n",
              "      <td>2021-07-19</td>\n",
              "    </tr>\n",
              "    <tr>\n",
              "      <th>2</th>\n",
              "      <td>Gabrielle Aplin - Home (Official Video)</td>\n",
              "      <td>[{'name': 'Gabrielle Aplin VEVO', 'url': 'http...</td>\n",
              "      <td>2021-07-19</td>\n",
              "    </tr>\n",
              "    <tr>\n",
              "      <th>3</th>\n",
              "      <td>Python JSON to CSV conversion</td>\n",
              "      <td>[{'name': 'DevNami', 'url': 'https://www.youtu...</td>\n",
              "      <td>2021-07-18</td>\n",
              "    </tr>\n",
              "    <tr>\n",
              "      <th>4</th>\n",
              "      <td>Json to csv convert using python easily</td>\n",
              "      <td>[{'name': 'IT TECH TARUN', 'url': 'https://www...</td>\n",
              "      <td>2021-07-18</td>\n",
              "    </tr>\n",
              "  </tbody>\n",
              "</table>\n",
              "</div>"
            ],
            "text/plain": [
              "                                               title  ...       time\n",
              "0   História da vida de Santa Brígida da Suécia (...  ... 2021-07-19\n",
              "1   A Regra mais Importante do STORYTELLING!!! / ...  ... 2021-07-19\n",
              "2            Gabrielle Aplin - Home (Official Video)  ... 2021-07-19\n",
              "3                      Python JSON to CSV conversion  ... 2021-07-18\n",
              "4            Json to csv convert using python easily  ... 2021-07-18\n",
              "\n",
              "[5 rows x 3 columns]"
            ]
          },
          "metadata": {
            "tags": []
          },
          "execution_count": 18
        }
      ]
    },
    {
      "cell_type": "markdown",
      "metadata": {
        "id": "1LqPO51k1-q7"
      },
      "source": [
        "### Extraindo apenas o nome do canal de 'subtitles'"
      ]
    },
    {
      "cell_type": "code",
      "metadata": {
        "id": "OohEk4g1QBy6"
      },
      "source": [
        "nome_canal = []\n",
        "for i in range (0,len(visualizacao_youtube)):\n",
        "  n = visualizacao_youtube['subtitles'][i][0]['name']\n",
        "  nome_canal.append(n)\n"
      ],
      "execution_count": null,
      "outputs": []
    },
    {
      "cell_type": "markdown",
      "metadata": {
        "id": "psdVd3Sj2MLh"
      },
      "source": [
        "### Atribuindo nome a nova coluna criada"
      ]
    },
    {
      "cell_type": "code",
      "metadata": {
        "id": "mpHKRPTMRacg"
      },
      "source": [
        "visualizacao_youtube['channel_name'] = nome_canal"
      ],
      "execution_count": null,
      "outputs": []
    },
    {
      "cell_type": "code",
      "metadata": {
        "colab": {
          "base_uri": "https://localhost:8080/",
          "height": 202
        },
        "id": "rn53ovaMSxnv",
        "outputId": "776e1c14-fd94-44ad-be23-79085685c2c4"
      },
      "source": [
        "visualizacao_youtube.head()"
      ],
      "execution_count": null,
      "outputs": [
        {
          "output_type": "execute_result",
          "data": {
            "text/html": [
              "<div>\n",
              "<style scoped>\n",
              "    .dataframe tbody tr th:only-of-type {\n",
              "        vertical-align: middle;\n",
              "    }\n",
              "\n",
              "    .dataframe tbody tr th {\n",
              "        vertical-align: top;\n",
              "    }\n",
              "\n",
              "    .dataframe thead th {\n",
              "        text-align: right;\n",
              "    }\n",
              "</style>\n",
              "<table border=\"1\" class=\"dataframe\">\n",
              "  <thead>\n",
              "    <tr style=\"text-align: right;\">\n",
              "      <th></th>\n",
              "      <th>title</th>\n",
              "      <th>subtitles</th>\n",
              "      <th>time</th>\n",
              "      <th>channel_name</th>\n",
              "    </tr>\n",
              "  </thead>\n",
              "  <tbody>\n",
              "    <tr>\n",
              "      <th>0</th>\n",
              "      <td>História da vida de Santa Brígida da Suécia (...</td>\n",
              "      <td>[{'name': 'Expedição 19', 'url': 'https://www....</td>\n",
              "      <td>2021-07-19</td>\n",
              "      <td>Expedição 19</td>\n",
              "    </tr>\n",
              "    <tr>\n",
              "      <th>1</th>\n",
              "      <td>A Regra mais Importante do STORYTELLING!!! / ...</td>\n",
              "      <td>[{'name': 'Fantástica Fábrica Criativa', 'url'...</td>\n",
              "      <td>2021-07-19</td>\n",
              "      <td>Fantástica Fábrica Criativa</td>\n",
              "    </tr>\n",
              "    <tr>\n",
              "      <th>2</th>\n",
              "      <td>Gabrielle Aplin - Home (Official Video)</td>\n",
              "      <td>[{'name': 'Gabrielle Aplin VEVO', 'url': 'http...</td>\n",
              "      <td>2021-07-19</td>\n",
              "      <td>Gabrielle Aplin VEVO</td>\n",
              "    </tr>\n",
              "    <tr>\n",
              "      <th>3</th>\n",
              "      <td>Python JSON to CSV conversion</td>\n",
              "      <td>[{'name': 'DevNami', 'url': 'https://www.youtu...</td>\n",
              "      <td>2021-07-18</td>\n",
              "      <td>DevNami</td>\n",
              "    </tr>\n",
              "    <tr>\n",
              "      <th>4</th>\n",
              "      <td>Json to csv convert using python easily</td>\n",
              "      <td>[{'name': 'IT TECH TARUN', 'url': 'https://www...</td>\n",
              "      <td>2021-07-18</td>\n",
              "      <td>IT TECH TARUN</td>\n",
              "    </tr>\n",
              "  </tbody>\n",
              "</table>\n",
              "</div>"
            ],
            "text/plain": [
              "                                               title  ...                 channel_name\n",
              "0   História da vida de Santa Brígida da Suécia (...  ...                 Expedição 19\n",
              "1   A Regra mais Importante do STORYTELLING!!! / ...  ...  Fantástica Fábrica Criativa\n",
              "2            Gabrielle Aplin - Home (Official Video)  ...         Gabrielle Aplin VEVO\n",
              "3                      Python JSON to CSV conversion  ...                      DevNami\n",
              "4            Json to csv convert using python easily  ...                IT TECH TARUN\n",
              "\n",
              "[5 rows x 4 columns]"
            ]
          },
          "metadata": {
            "tags": []
          },
          "execution_count": 21
        }
      ]
    },
    {
      "cell_type": "markdown",
      "metadata": {
        "id": "xwSe_Hjy3QIl"
      },
      "source": [
        "### Apagando a coluna 'subtitles'"
      ]
    },
    {
      "cell_type": "code",
      "metadata": {
        "id": "SvqF_AVhS8LC"
      },
      "source": [
        "visualizacao_youtube.drop(columns='subtitles',inplace=True)"
      ],
      "execution_count": null,
      "outputs": []
    },
    {
      "cell_type": "code",
      "metadata": {
        "colab": {
          "base_uri": "https://localhost:8080/",
          "height": 202
        },
        "id": "fx_Gop20TK-N",
        "outputId": "53204ac9-d00f-459a-ece6-904f1319596e"
      },
      "source": [
        "visualizacao_youtube.head()"
      ],
      "execution_count": null,
      "outputs": [
        {
          "output_type": "execute_result",
          "data": {
            "text/html": [
              "<div>\n",
              "<style scoped>\n",
              "    .dataframe tbody tr th:only-of-type {\n",
              "        vertical-align: middle;\n",
              "    }\n",
              "\n",
              "    .dataframe tbody tr th {\n",
              "        vertical-align: top;\n",
              "    }\n",
              "\n",
              "    .dataframe thead th {\n",
              "        text-align: right;\n",
              "    }\n",
              "</style>\n",
              "<table border=\"1\" class=\"dataframe\">\n",
              "  <thead>\n",
              "    <tr style=\"text-align: right;\">\n",
              "      <th></th>\n",
              "      <th>title</th>\n",
              "      <th>time</th>\n",
              "      <th>channel_name</th>\n",
              "    </tr>\n",
              "  </thead>\n",
              "  <tbody>\n",
              "    <tr>\n",
              "      <th>0</th>\n",
              "      <td>História da vida de Santa Brígida da Suécia (...</td>\n",
              "      <td>2021-07-19</td>\n",
              "      <td>Expedição 19</td>\n",
              "    </tr>\n",
              "    <tr>\n",
              "      <th>1</th>\n",
              "      <td>A Regra mais Importante do STORYTELLING!!! / ...</td>\n",
              "      <td>2021-07-19</td>\n",
              "      <td>Fantástica Fábrica Criativa</td>\n",
              "    </tr>\n",
              "    <tr>\n",
              "      <th>2</th>\n",
              "      <td>Gabrielle Aplin - Home (Official Video)</td>\n",
              "      <td>2021-07-19</td>\n",
              "      <td>Gabrielle Aplin VEVO</td>\n",
              "    </tr>\n",
              "    <tr>\n",
              "      <th>3</th>\n",
              "      <td>Python JSON to CSV conversion</td>\n",
              "      <td>2021-07-18</td>\n",
              "      <td>DevNami</td>\n",
              "    </tr>\n",
              "    <tr>\n",
              "      <th>4</th>\n",
              "      <td>Json to csv convert using python easily</td>\n",
              "      <td>2021-07-18</td>\n",
              "      <td>IT TECH TARUN</td>\n",
              "    </tr>\n",
              "  </tbody>\n",
              "</table>\n",
              "</div>"
            ],
            "text/plain": [
              "                                               title  ...                 channel_name\n",
              "0   História da vida de Santa Brígida da Suécia (...  ...                 Expedição 19\n",
              "1   A Regra mais Importante do STORYTELLING!!! / ...  ...  Fantástica Fábrica Criativa\n",
              "2            Gabrielle Aplin - Home (Official Video)  ...         Gabrielle Aplin VEVO\n",
              "3                      Python JSON to CSV conversion  ...                      DevNami\n",
              "4            Json to csv convert using python easily  ...                IT TECH TARUN\n",
              "\n",
              "[5 rows x 3 columns]"
            ]
          },
          "metadata": {
            "tags": []
          },
          "execution_count": 23
        }
      ]
    },
    {
      "cell_type": "markdown",
      "metadata": {
        "id": "hp-ltGT23bFk"
      },
      "source": [
        "### Renomeando colunas"
      ]
    },
    {
      "cell_type": "code",
      "metadata": {
        "id": "ka23iVXB5lui"
      },
      "source": [
        "visualizacao_youtube.rename(columns={'title':'titulo','time':'data','channel_name':'nome_do_canal'},inplace=True)"
      ],
      "execution_count": null,
      "outputs": []
    },
    {
      "cell_type": "code",
      "metadata": {
        "colab": {
          "base_uri": "https://localhost:8080/",
          "height": 202
        },
        "id": "Q0PCDVvc6Q8d",
        "outputId": "d851d303-096b-4875-be33-ab5baced1476"
      },
      "source": [
        "visualizacao_youtube.head()"
      ],
      "execution_count": null,
      "outputs": [
        {
          "output_type": "execute_result",
          "data": {
            "text/html": [
              "<div>\n",
              "<style scoped>\n",
              "    .dataframe tbody tr th:only-of-type {\n",
              "        vertical-align: middle;\n",
              "    }\n",
              "\n",
              "    .dataframe tbody tr th {\n",
              "        vertical-align: top;\n",
              "    }\n",
              "\n",
              "    .dataframe thead th {\n",
              "        text-align: right;\n",
              "    }\n",
              "</style>\n",
              "<table border=\"1\" class=\"dataframe\">\n",
              "  <thead>\n",
              "    <tr style=\"text-align: right;\">\n",
              "      <th></th>\n",
              "      <th>titulo</th>\n",
              "      <th>data</th>\n",
              "      <th>nome_do_canal</th>\n",
              "    </tr>\n",
              "  </thead>\n",
              "  <tbody>\n",
              "    <tr>\n",
              "      <th>0</th>\n",
              "      <td>História da vida de Santa Brígida da Suécia (...</td>\n",
              "      <td>2021-07-19</td>\n",
              "      <td>Expedição 19</td>\n",
              "    </tr>\n",
              "    <tr>\n",
              "      <th>1</th>\n",
              "      <td>A Regra mais Importante do STORYTELLING!!! / ...</td>\n",
              "      <td>2021-07-19</td>\n",
              "      <td>Fantástica Fábrica Criativa</td>\n",
              "    </tr>\n",
              "    <tr>\n",
              "      <th>2</th>\n",
              "      <td>Gabrielle Aplin - Home (Official Video)</td>\n",
              "      <td>2021-07-19</td>\n",
              "      <td>Gabrielle Aplin VEVO</td>\n",
              "    </tr>\n",
              "    <tr>\n",
              "      <th>3</th>\n",
              "      <td>Python JSON to CSV conversion</td>\n",
              "      <td>2021-07-18</td>\n",
              "      <td>DevNami</td>\n",
              "    </tr>\n",
              "    <tr>\n",
              "      <th>4</th>\n",
              "      <td>Json to csv convert using python easily</td>\n",
              "      <td>2021-07-18</td>\n",
              "      <td>IT TECH TARUN</td>\n",
              "    </tr>\n",
              "  </tbody>\n",
              "</table>\n",
              "</div>"
            ],
            "text/plain": [
              "                                              titulo  ...                nome_do_canal\n",
              "0   História da vida de Santa Brígida da Suécia (...  ...                 Expedição 19\n",
              "1   A Regra mais Importante do STORYTELLING!!! / ...  ...  Fantástica Fábrica Criativa\n",
              "2            Gabrielle Aplin - Home (Official Video)  ...         Gabrielle Aplin VEVO\n",
              "3                      Python JSON to CSV conversion  ...                      DevNami\n",
              "4            Json to csv convert using python easily  ...                IT TECH TARUN\n",
              "\n",
              "[5 rows x 3 columns]"
            ]
          },
          "metadata": {
            "tags": []
          },
          "execution_count": 25
        }
      ]
    },
    {
      "cell_type": "markdown",
      "metadata": {
        "id": "QToL3l3QTGBz"
      },
      "source": [
        "#### Verificando canais mais vistos no youtube"
      ]
    },
    {
      "cell_type": "code",
      "metadata": {
        "colab": {
          "base_uri": "https://localhost:8080/"
        },
        "id": "-QRvFa9uSB5j",
        "outputId": "49c43adf-1ade-4734-9732-dd917ed021e3"
      },
      "source": [
        "visualizacao_youtube['nome_do_canal'].value_counts()"
      ],
      "execution_count": null,
      "outputs": [
        {
          "output_type": "execute_result",
          "data": {
            "text/plain": [
              "Curso em Vídeo                                 108\n",
              "Ir Kelly Patricia OFICIAL / Instituto Hesed     59\n",
              "LagumVEVO                                       41\n",
              "Canal KondZilla                                 34\n",
              "Bóson Treinamentos                              32\n",
              "                                              ... \n",
              "Canal da oli Santos                              1\n",
              "Mundo dos Trailers                               1\n",
              "VITINHO DE SG ϟ                                  1\n",
              "Merve                                            1\n",
              "Prime                                            1\n",
              "Name: nome_do_canal, Length: 1221, dtype: int64"
            ]
          },
          "metadata": {
            "tags": []
          },
          "execution_count": 26
        }
      ]
    },
    {
      "cell_type": "markdown",
      "metadata": {
        "id": "VDhfnbud3qoZ"
      },
      "source": [
        "### Consultando por meio de intervalo de datas"
      ]
    },
    {
      "cell_type": "code",
      "metadata": {
        "colab": {
          "base_uri": "https://localhost:8080/",
          "height": 414
        },
        "id": "t1pSmOLtSplG",
        "outputId": "ba60e3ce-504d-4d94-d387-f89e64a16d48"
      },
      "source": [
        "visualizacao_youtube.loc[(visualizacao_youtube['data'] > '2020-07-01') & (visualizacao_youtube['data'] < '2021-01-01')]"
      ],
      "execution_count": null,
      "outputs": [
        {
          "output_type": "execute_result",
          "data": {
            "text/html": [
              "<div>\n",
              "<style scoped>\n",
              "    .dataframe tbody tr th:only-of-type {\n",
              "        vertical-align: middle;\n",
              "    }\n",
              "\n",
              "    .dataframe tbody tr th {\n",
              "        vertical-align: top;\n",
              "    }\n",
              "\n",
              "    .dataframe thead th {\n",
              "        text-align: right;\n",
              "    }\n",
              "</style>\n",
              "<table border=\"1\" class=\"dataframe\">\n",
              "  <thead>\n",
              "    <tr style=\"text-align: right;\">\n",
              "      <th></th>\n",
              "      <th>titulo</th>\n",
              "      <th>data</th>\n",
              "      <th>nome_do_canal</th>\n",
              "    </tr>\n",
              "  </thead>\n",
              "  <tbody>\n",
              "    <tr>\n",
              "      <th>1472</th>\n",
              "      <td>Calopsita macho cantando</td>\n",
              "      <td>2020-12-29</td>\n",
              "      <td>Amor por Calopsita</td>\n",
              "    </tr>\n",
              "    <tr>\n",
              "      <th>1473</th>\n",
              "      <td>Vatican Media Live - Português</td>\n",
              "      <td>2020-12-24</td>\n",
              "      <td>Vatican News - Português</td>\n",
              "    </tr>\n",
              "    <tr>\n",
              "      <th>1474</th>\n",
              "      <td>Calopsita macho cantando</td>\n",
              "      <td>2020-12-23</td>\n",
              "      <td>Amor por Calopsita</td>\n",
              "    </tr>\n",
              "    <tr>\n",
              "      <th>1475</th>\n",
              "      <td>Calopsita fêmea cantando muito.</td>\n",
              "      <td>2020-12-23</td>\n",
              "      <td>Nino Pereira Eduardo</td>\n",
              "    </tr>\n",
              "    <tr>\n",
              "      <th>1476</th>\n",
              "      <td>Bolo Tsunami</td>\n",
              "      <td>2020-12-21</td>\n",
              "      <td>Bom Sabor cake Tamires Lima</td>\n",
              "    </tr>\n",
              "    <tr>\n",
              "      <th>...</th>\n",
              "      <td>...</td>\n",
              "      <td>...</td>\n",
              "      <td>...</td>\n",
              "    </tr>\n",
              "    <tr>\n",
              "      <th>2288</th>\n",
              "      <td>Hebe faz especial de Natal com Chico Xavier e...</td>\n",
              "      <td>2020-07-31</td>\n",
              "      <td>Band</td>\n",
              "    </tr>\n",
              "    <tr>\n",
              "      <th>2289</th>\n",
              "      <td>Jô Soares entrevista Hebe Camargo no Jô Soare...</td>\n",
              "      <td>2020-07-31</td>\n",
              "      <td>#tbtSBT</td>\n",
              "    </tr>\n",
              "    <tr>\n",
              "      <th>2290</th>\n",
              "      <td>MANSÕES DE FAMOSOS ABANDONADAS POR CAUSA DA J...</td>\n",
              "      <td>2020-07-31</td>\n",
              "      <td>Jovem casal</td>\n",
              "    </tr>\n",
              "    <tr>\n",
              "      <th>2291</th>\n",
              "      <td>Como ganha dinheiro no the sims freeplay e pa...</td>\n",
              "      <td>2020-07-31</td>\n",
              "      <td>Fernanda Mara</td>\n",
              "    </tr>\n",
              "    <tr>\n",
              "      <th>2292</th>\n",
              "      <td>PEGAMOS O TIRINGA DE JEITO NO FUTEBOL DE BOLA...</td>\n",
              "      <td>2020-07-31</td>\n",
              "      <td>COMÉDIA SELVAGEM</td>\n",
              "    </tr>\n",
              "  </tbody>\n",
              "</table>\n",
              "<p>621 rows × 3 columns</p>\n",
              "</div>"
            ],
            "text/plain": [
              "                                                 titulo  ...                nome_do_canal\n",
              "1472                           Calopsita macho cantando  ...           Amor por Calopsita\n",
              "1473                     Vatican Media Live - Português  ...     Vatican News - Português\n",
              "1474                           Calopsita macho cantando  ...           Amor por Calopsita\n",
              "1475                    Calopsita fêmea cantando muito.  ...         Nino Pereira Eduardo\n",
              "1476                                       Bolo Tsunami  ...  Bom Sabor cake Tamires Lima\n",
              "...                                                 ...  ...                          ...\n",
              "2288   Hebe faz especial de Natal com Chico Xavier e...  ...                         Band\n",
              "2289   Jô Soares entrevista Hebe Camargo no Jô Soare...  ...                      #tbtSBT\n",
              "2290   MANSÕES DE FAMOSOS ABANDONADAS POR CAUSA DA J...  ...                  Jovem casal\n",
              "2291   Como ganha dinheiro no the sims freeplay e pa...  ...                Fernanda Mara\n",
              "2292   PEGAMOS O TIRINGA DE JEITO NO FUTEBOL DE BOLA...  ...             COMÉDIA SELVAGEM\n",
              "\n",
              "[621 rows x 3 columns]"
            ]
          },
          "metadata": {
            "tags": []
          },
          "execution_count": 27
        }
      ]
    },
    {
      "cell_type": "markdown",
      "metadata": {
        "id": "pcgrN8Ub3xDz"
      },
      "source": [
        "### Criando outro Dataframe para realizar pesquisas."
      ]
    },
    {
      "cell_type": "code",
      "metadata": {
        "id": "xVUdZZxiVQg5"
      },
      "source": [
        "#Pesquisando termos específicos na coluna 'titulo'\n",
        "pesquisas_de_dados = visualizacao_youtube.query('titulo.str.contains(\"Python\") | titulo.str.contains(\"Dados\") | titulo.str.contains(\"Análise\")\\\n",
        "| titulo.str.contains(\"Programação\") |titulo.str.contains(\"Data\") |titulo.str.contains(\"analysis\")', engine='python')"
      ],
      "execution_count": null,
      "outputs": []
    },
    {
      "cell_type": "code",
      "metadata": {
        "colab": {
          "base_uri": "https://localhost:8080/",
          "height": 324
        },
        "id": "2ffiJkWeV8QS",
        "outputId": "c56c7c34-4042-47e1-a7b4-00618ae2da8e"
      },
      "source": [
        "#Pesquisando termos específicos por meio de um intervalo de tempo\n",
        "pesquisas_de_dados.loc[(visualizacao_youtube['data'] > '2020-07-01') & (visualizacao_youtube['data'] < '2021-01-01')]"
      ],
      "execution_count": null,
      "outputs": [
        {
          "output_type": "execute_result",
          "data": {
            "text/html": [
              "<div>\n",
              "<style scoped>\n",
              "    .dataframe tbody tr th:only-of-type {\n",
              "        vertical-align: middle;\n",
              "    }\n",
              "\n",
              "    .dataframe tbody tr th {\n",
              "        vertical-align: top;\n",
              "    }\n",
              "\n",
              "    .dataframe thead th {\n",
              "        text-align: right;\n",
              "    }\n",
              "</style>\n",
              "<table border=\"1\" class=\"dataframe\">\n",
              "  <thead>\n",
              "    <tr style=\"text-align: right;\">\n",
              "      <th></th>\n",
              "      <th>titulo</th>\n",
              "      <th>data</th>\n",
              "      <th>nome_do_canal</th>\n",
              "    </tr>\n",
              "  </thead>\n",
              "  <tbody>\n",
              "    <tr>\n",
              "      <th>1742</th>\n",
              "      <td>Curso MySQL #01 - O que é um Banco de Dados?</td>\n",
              "      <td>2020-09-11</td>\n",
              "      <td>Curso em Vídeo</td>\n",
              "    </tr>\n",
              "    <tr>\n",
              "      <th>1821</th>\n",
              "      <td>Curso MySQL #01 - O que é um Banco de Dados?</td>\n",
              "      <td>2020-10-21</td>\n",
              "      <td>Curso em Vídeo</td>\n",
              "    </tr>\n",
              "    <tr>\n",
              "      <th>1832</th>\n",
              "      <td>Curso MySQL #01 - O que é um Banco de Dados?</td>\n",
              "      <td>2020-10-20</td>\n",
              "      <td>Curso em Vídeo</td>\n",
              "    </tr>\n",
              "    <tr>\n",
              "      <th>1848</th>\n",
              "      <td>SQL no Excel - Usar o Excel como Banco de Dados</td>\n",
              "      <td>2020-10-17</td>\n",
              "      <td>PROF DARLAN - EXCEL</td>\n",
              "    </tr>\n",
              "    <tr>\n",
              "      <th>1849</th>\n",
              "      <td>[Power BI] 11 Bases de Dados Para Aprender + ...</td>\n",
              "      <td>2020-10-17</td>\n",
              "      <td>Karine Lago</td>\n",
              "    </tr>\n",
              "    <tr>\n",
              "      <th>1852</th>\n",
              "      <td>SQL e Banco de Dados para Iniciantes</td>\n",
              "      <td>2020-10-16</td>\n",
              "      <td>Harlley Oliveira</td>\n",
              "    </tr>\n",
              "    <tr>\n",
              "      <th>2002</th>\n",
              "      <td>Caso Miguel: Sarí Corte sentiu culpa? (Anális...</td>\n",
              "      <td>2020-09-25</td>\n",
              "      <td>Metaforando</td>\n",
              "    </tr>\n",
              "    <tr>\n",
              "      <th>2036</th>\n",
              "      <td>Carlinhos Maia mentiu sobre Luísa Sonza? (Aná...</td>\n",
              "      <td>2020-09-23</td>\n",
              "      <td>Metaforando</td>\n",
              "    </tr>\n",
              "    <tr>\n",
              "      <th>2048</th>\n",
              "      <td>Luísa Sonza e Vitão: \"Sinais de Traição\"? Tal...</td>\n",
              "      <td>2020-09-18</td>\n",
              "      <td>Metaforando</td>\n",
              "    </tr>\n",
              "  </tbody>\n",
              "</table>\n",
              "</div>"
            ],
            "text/plain": [
              "                                                 titulo  ...        nome_do_canal\n",
              "1742       Curso MySQL #01 - O que é um Banco de Dados?  ...       Curso em Vídeo\n",
              "1821       Curso MySQL #01 - O que é um Banco de Dados?  ...       Curso em Vídeo\n",
              "1832       Curso MySQL #01 - O que é um Banco de Dados?  ...       Curso em Vídeo\n",
              "1848    SQL no Excel - Usar o Excel como Banco de Dados  ...  PROF DARLAN - EXCEL\n",
              "1849   [Power BI] 11 Bases de Dados Para Aprender + ...  ...          Karine Lago\n",
              "1852               SQL e Banco de Dados para Iniciantes  ...     Harlley Oliveira\n",
              "2002   Caso Miguel: Sarí Corte sentiu culpa? (Anális...  ...          Metaforando\n",
              "2036   Carlinhos Maia mentiu sobre Luísa Sonza? (Aná...  ...          Metaforando\n",
              "2048   Luísa Sonza e Vitão: \"Sinais de Traição\"? Tal...  ...          Metaforando\n",
              "\n",
              "[9 rows x 3 columns]"
            ]
          },
          "metadata": {
            "tags": []
          },
          "execution_count": 29
        }
      ]
    },
    {
      "cell_type": "markdown",
      "metadata": {
        "id": "NuzXuLuCZUn0"
      },
      "source": [
        "### verificando os vídeos com maiores visualizações antes do vamoai"
      ]
    },
    {
      "cell_type": "code",
      "metadata": {
        "colab": {
          "base_uri": "https://localhost:8080/"
        },
        "id": "G4LjXn5GYnMr",
        "outputId": "de516617-c9cb-49a9-f704-132e4861d246"
      },
      "source": [
        "antes_vamoai = pesquisas_de_dados.loc[(visualizacao_youtube['data'] > '2020-07-01') & (visualizacao_youtube['data'] < '2021-01-24')]\n",
        "antes_vamoai['nome_do_canal'].value_counts()"
      ],
      "execution_count": null,
      "outputs": [
        {
          "output_type": "execute_result",
          "data": {
            "text/plain": [
              "Curso em Vídeo         35\n",
              "Filipe Deschamps        5\n",
              "Metaforando             3\n",
              "Dev Aprender            2\n",
              "Karine Lago             1\n",
              "Otávio Miranda          1\n",
              "Walisson Silva          1\n",
              "Fabio Ruicci            1\n",
              "Eduardo Mendes          1\n",
              "The Grapevine           1\n",
              "Harlley Oliveira        1\n",
              "Programador Sagaz       1\n",
              "PROF DARLAN - EXCEL     1\n",
              "Name: nome_do_canal, dtype: int64"
            ]
          },
          "metadata": {
            "tags": []
          },
          "execution_count": 30
        }
      ]
    },
    {
      "cell_type": "markdown",
      "metadata": {
        "id": "3mzUivae6eLW"
      },
      "source": [
        "### Transformando o Dataframe em arquivo csv"
      ]
    },
    {
      "cell_type": "code",
      "metadata": {
        "id": "MfrdxSPO6YuD"
      },
      "source": [
        "visualizacao_youtube.to_csv ('historico_visualizacao_youtube.csv',index=False)"
      ],
      "execution_count": null,
      "outputs": []
    },
    {
      "cell_type": "code",
      "metadata": {
        "colab": {
          "base_uri": "https://localhost:8080/",
          "height": 33
        },
        "id": "NKFVT6m67G42",
        "outputId": "a57bb8c4-5877-4b0e-b4e0-ace1c8cd1092"
      },
      "source": [
        "from google.colab import files\n",
        "files.download(\"historico_visualizacao_youtube.csv\")"
      ],
      "execution_count": null,
      "outputs": [
        {
          "output_type": "display_data",
          "data": {
            "application/javascript": [
              "\n",
              "    async function download(id, filename, size) {\n",
              "      if (!google.colab.kernel.accessAllowed) {\n",
              "        return;\n",
              "      }\n",
              "      const div = document.createElement('div');\n",
              "      const label = document.createElement('label');\n",
              "      label.textContent = `Downloading \"${filename}\": `;\n",
              "      div.appendChild(label);\n",
              "      const progress = document.createElement('progress');\n",
              "      progress.max = size;\n",
              "      div.appendChild(progress);\n",
              "      document.body.appendChild(div);\n",
              "\n",
              "      const buffers = [];\n",
              "      let downloaded = 0;\n",
              "\n",
              "      const channel = await google.colab.kernel.comms.open(id);\n",
              "      // Send a message to notify the kernel that we're ready.\n",
              "      channel.send({})\n",
              "\n",
              "      for await (const message of channel.messages) {\n",
              "        // Send a message to notify the kernel that we're ready.\n",
              "        channel.send({})\n",
              "        if (message.buffers) {\n",
              "          for (const buffer of message.buffers) {\n",
              "            buffers.push(buffer);\n",
              "            downloaded += buffer.byteLength;\n",
              "            progress.value = downloaded;\n",
              "          }\n",
              "        }\n",
              "      }\n",
              "      const blob = new Blob(buffers, {type: 'application/binary'});\n",
              "      const a = document.createElement('a');\n",
              "      a.href = window.URL.createObjectURL(blob);\n",
              "      a.download = filename;\n",
              "      div.appendChild(a);\n",
              "      a.click();\n",
              "      div.remove();\n",
              "    }\n",
              "  "
            ],
            "text/plain": [
              "<IPython.core.display.Javascript object>"
            ]
          },
          "metadata": {
            "tags": []
          }
        },
        {
          "output_type": "display_data",
          "data": {
            "application/javascript": [
              "download(\"download_a5d361f6-c8e8-402e-a070-7d6086e33a71\", \"historico_visualizacao_youtube.csv\", 197118)"
            ],
            "text/plain": [
              "<IPython.core.display.Javascript object>"
            ]
          },
          "metadata": {
            "tags": []
          }
        }
      ]
    }
  ]
}