{
  "nbformat": 4,
  "nbformat_minor": 0,
  "metadata": {
    "colab": {
      "name": "following-instagram.ipynb",
      "provenance": [],
      "collapsed_sections": []
    },
    "kernelspec": {
      "name": "python3",
      "display_name": "Python 3"
    },
    "language_info": {
      "name": "python"
    }
  },
  "cells": [
    {
      "cell_type": "code",
      "metadata": {
        "colab": {
          "base_uri": "https://localhost:8080/"
        },
        "id": "79f_pMB5MjqX",
        "outputId": "2c837b90-88e7-4594-ef42-ede26b598a5b"
      },
      "source": [
        "%ls"
      ],
      "execution_count": null,
      "outputs": [
        {
          "output_type": "stream",
          "text": [
            "\u001b[0m\u001b[01;34mdrive\u001b[0m/  \u001b[01;34msample_data\u001b[0m/\n"
          ],
          "name": "stdout"
        }
      ]
    },
    {
      "cell_type": "code",
      "metadata": {
        "colab": {
          "base_uri": "https://localhost:8080/"
        },
        "id": "F56_SF7nMo_m",
        "outputId": "2a42d2e3-195b-4644-af5e-ff222913f2cb"
      },
      "source": [
        "%cd drive/MyDrive/projeto-final-vamoai"
      ],
      "execution_count": null,
      "outputs": [
        {
          "output_type": "stream",
          "text": [
            "/content/drive/MyDrive/projeto-final-vamoai\n"
          ],
          "name": "stdout"
        }
      ]
    },
    {
      "cell_type": "markdown",
      "metadata": {
        "id": "V-cDJ_20Yi4S"
      },
      "source": [
        "### Importando bibliotecas necessárias para criação e modificações no Dataframe"
      ]
    },
    {
      "cell_type": "code",
      "metadata": {
        "id": "97dkMIvUMts3"
      },
      "source": [
        "import pandas as pd\n",
        "import json\n",
        "import csv"
      ],
      "execution_count": null,
      "outputs": []
    },
    {
      "cell_type": "code",
      "metadata": {
        "id": "SXdMn4WAM63D"
      },
      "source": [
        "from pandas import json_normalize\n",
        "from pathlib import Path\n",
        "from datetime import datetime"
      ],
      "execution_count": null,
      "outputs": []
    },
    {
      "cell_type": "markdown",
      "metadata": {
        "id": "i4h8qO6xYmlG"
      },
      "source": [
        "### Criando a conexão com o arquivo no google drive e criando um dataframe"
      ]
    },
    {
      "cell_type": "code",
      "metadata": {
        "id": "9BovdhS4MxO7"
      },
      "source": [
        "p = Path(r'/content/drive/MyDrive/projeto-final-vamoai/following.json')\n",
        "with p.open('r', encoding='utf-8') as f:\n",
        "    data = json.loads(f.read())\n",
        "df = pd.json_normalize(data,'relationships_following')\n"
      ],
      "execution_count": null,
      "outputs": []
    },
    {
      "cell_type": "markdown",
      "metadata": {
        "id": "6SMhu6FLYsD8"
      },
      "source": [
        "### Criando um segundo dataframe e unindo duas estruturas que estão separadas no mesmo arquivo JSON e criando um terceiro Dataframe com o nome de: 'following'. Após isto, apaguei as colunas que não pretendia utilizar"
      ]
    },
    {
      "cell_type": "code",
      "metadata": {
        "id": "8dNBOb-sNbfC"
      },
      "source": [
        "df2 = pd.json_normalize(data,['relationships_following',['string_list_data']])\n",
        "following = pd.concat([df, df2], axis=1)\n",
        "following.drop(columns=['media_list_data','string_list_data','href','title'], inplace=True )"
      ],
      "execution_count": null,
      "outputs": []
    },
    {
      "cell_type": "markdown",
      "metadata": {
        "id": "_0tXeVzdZL1M"
      },
      "source": [
        "### Verificando se as mudanças ocorreram com sucesso!"
      ]
    },
    {
      "cell_type": "code",
      "metadata": {
        "colab": {
          "base_uri": "https://localhost:8080/",
          "height": 202
        },
        "id": "hUfAjcLpNyOn",
        "outputId": "f42fd99f-2ce8-4357-dd3e-cb4648d8f7c3"
      },
      "source": [
        "following.head()"
      ],
      "execution_count": null,
      "outputs": [
        {
          "output_type": "execute_result",
          "data": {
            "text/html": [
              "<div>\n",
              "<style scoped>\n",
              "    .dataframe tbody tr th:only-of-type {\n",
              "        vertical-align: middle;\n",
              "    }\n",
              "\n",
              "    .dataframe tbody tr th {\n",
              "        vertical-align: top;\n",
              "    }\n",
              "\n",
              "    .dataframe thead th {\n",
              "        text-align: right;\n",
              "    }\n",
              "</style>\n",
              "<table border=\"1\" class=\"dataframe\">\n",
              "  <thead>\n",
              "    <tr style=\"text-align: right;\">\n",
              "      <th></th>\n",
              "      <th>value</th>\n",
              "      <th>timestamp</th>\n",
              "    </tr>\n",
              "  </thead>\n",
              "  <tbody>\n",
              "    <tr>\n",
              "      <th>0</th>\n",
              "      <td>sitioajardineira</td>\n",
              "      <td>1626465140</td>\n",
              "    </tr>\n",
              "    <tr>\n",
              "      <th>1</th>\n",
              "      <td>malluoficial</td>\n",
              "      <td>1625947404</td>\n",
              "    </tr>\n",
              "    <tr>\n",
              "      <th>2</th>\n",
              "      <td>maiscoremenoscoisa</td>\n",
              "      <td>1625895847</td>\n",
              "    </tr>\n",
              "    <tr>\n",
              "      <th>3</th>\n",
              "      <td>paroquiasantanacg</td>\n",
              "      <td>1625774004</td>\n",
              "    </tr>\n",
              "    <tr>\n",
              "      <th>4</th>\n",
              "      <td>daniellapintto</td>\n",
              "      <td>1625628447</td>\n",
              "    </tr>\n",
              "  </tbody>\n",
              "</table>\n",
              "</div>"
            ],
            "text/plain": [
              "                value   timestamp\n",
              "0    sitioajardineira  1626465140\n",
              "1        malluoficial  1625947404\n",
              "2  maiscoremenoscoisa  1625895847\n",
              "3   paroquiasantanacg  1625774004\n",
              "4      daniellapintto  1625628447"
            ]
          },
          "metadata": {
            "tags": []
          },
          "execution_count": 9
        }
      ]
    },
    {
      "cell_type": "markdown",
      "metadata": {
        "id": "EieU2l9pZiLK"
      },
      "source": [
        "### Transformando os dados de tempo de object para datetime"
      ]
    },
    {
      "cell_type": "code",
      "metadata": {
        "id": "5LX8kWemOcKK"
      },
      "source": [
        "following['timestamp'] = following['timestamp'].apply(lambda x :  pd.to_datetime(datetime.fromtimestamp(x).strftime('%d/%m/%Y')))"
      ],
      "execution_count": null,
      "outputs": []
    },
    {
      "cell_type": "code",
      "metadata": {
        "colab": {
          "base_uri": "https://localhost:8080/"
        },
        "id": "Z7fnGqh_Rnma",
        "outputId": "a99cd8a9-d6c0-4dc7-b8ef-b50e67d63d52"
      },
      "source": [
        "following.info()"
      ],
      "execution_count": null,
      "outputs": [
        {
          "output_type": "stream",
          "text": [
            "<class 'pandas.core.frame.DataFrame'>\n",
            "RangeIndex: 235 entries, 0 to 234\n",
            "Data columns (total 2 columns):\n",
            " #   Column     Non-Null Count  Dtype         \n",
            "---  ------     --------------  -----         \n",
            " 0   value      235 non-null    object        \n",
            " 1   timestamp  235 non-null    datetime64[ns]\n",
            "dtypes: datetime64[ns](1), object(1)\n",
            "memory usage: 3.8+ KB\n"
          ],
          "name": "stdout"
        }
      ]
    },
    {
      "cell_type": "markdown",
      "metadata": {
        "id": "C33F_9OfZs1N"
      },
      "source": [
        "### Confirmando as modificações realizadas"
      ]
    },
    {
      "cell_type": "code",
      "metadata": {
        "colab": {
          "base_uri": "https://localhost:8080/",
          "height": 202
        },
        "id": "6H-2hWHoRrD3",
        "outputId": "1172134a-a831-4527-bc00-adcb93c85794"
      },
      "source": [
        "following.head()"
      ],
      "execution_count": null,
      "outputs": [
        {
          "output_type": "execute_result",
          "data": {
            "text/html": [
              "<div>\n",
              "<style scoped>\n",
              "    .dataframe tbody tr th:only-of-type {\n",
              "        vertical-align: middle;\n",
              "    }\n",
              "\n",
              "    .dataframe tbody tr th {\n",
              "        vertical-align: top;\n",
              "    }\n",
              "\n",
              "    .dataframe thead th {\n",
              "        text-align: right;\n",
              "    }\n",
              "</style>\n",
              "<table border=\"1\" class=\"dataframe\">\n",
              "  <thead>\n",
              "    <tr style=\"text-align: right;\">\n",
              "      <th></th>\n",
              "      <th>value</th>\n",
              "      <th>timestamp</th>\n",
              "    </tr>\n",
              "  </thead>\n",
              "  <tbody>\n",
              "    <tr>\n",
              "      <th>0</th>\n",
              "      <td>sitioajardineira</td>\n",
              "      <td>2021-07-16</td>\n",
              "    </tr>\n",
              "    <tr>\n",
              "      <th>1</th>\n",
              "      <td>malluoficial</td>\n",
              "      <td>2021-10-07</td>\n",
              "    </tr>\n",
              "    <tr>\n",
              "      <th>2</th>\n",
              "      <td>maiscoremenoscoisa</td>\n",
              "      <td>2021-10-07</td>\n",
              "    </tr>\n",
              "    <tr>\n",
              "      <th>3</th>\n",
              "      <td>paroquiasantanacg</td>\n",
              "      <td>2021-08-07</td>\n",
              "    </tr>\n",
              "    <tr>\n",
              "      <th>4</th>\n",
              "      <td>daniellapintto</td>\n",
              "      <td>2021-07-07</td>\n",
              "    </tr>\n",
              "  </tbody>\n",
              "</table>\n",
              "</div>"
            ],
            "text/plain": [
              "                value  timestamp\n",
              "0    sitioajardineira 2021-07-16\n",
              "1        malluoficial 2021-10-07\n",
              "2  maiscoremenoscoisa 2021-10-07\n",
              "3   paroquiasantanacg 2021-08-07\n",
              "4      daniellapintto 2021-07-07"
            ]
          },
          "metadata": {
            "tags": []
          },
          "execution_count": 12
        }
      ]
    },
    {
      "cell_type": "markdown",
      "metadata": {
        "id": "L5bQafdhaVCN"
      },
      "source": [
        "### Renomeando as colunas do Dataframe"
      ]
    },
    {
      "cell_type": "code",
      "metadata": {
        "id": "3Hj2h_07xIzq"
      },
      "source": [
        "following.rename(columns={'value':'titulo','timestamp':'data'},inplace=True)"
      ],
      "execution_count": null,
      "outputs": []
    },
    {
      "cell_type": "markdown",
      "metadata": {
        "id": "JUy3cq9dxsUR"
      },
      "source": [
        "### Verificando páginas seguidas em determinado período de tempo por meio de um novo Dataframe"
      ]
    },
    {
      "cell_type": "code",
      "metadata": {
        "colab": {
          "base_uri": "https://localhost:8080/"
        },
        "id": "r_ifocb9xhYR",
        "outputId": "dd36485e-6086-4a77-e865-28f53d5a1d4e"
      },
      "source": [
        "paginas_seguidas = following.loc[(following['data'] > '2020-07-01') & (following['data'] < '2021-01-24')]\n",
        "paginas_seguidas['titulo'].value_counts()"
      ],
      "execution_count": null,
      "outputs": [
        {
          "output_type": "execute_result",
          "data": {
            "text/plain": [
              "yulebsr                 1\n",
              "meajudabiblio           1\n",
              "bibliocitou             1\n",
              "bibliotecaifspropria    1\n",
              "julianeconcolato        1\n",
              "                       ..\n",
              "barbara.moreirass       1\n",
              "biblioteca.senado       1\n",
              "fabafaculdade           1\n",
              "bibliotecaifrnlajes     1\n",
              "filipedeschamps         1\n",
              "Name: titulo, Length: 87, dtype: int64"
            ]
          },
          "metadata": {
            "tags": []
          },
          "execution_count": 14
        }
      ]
    },
    {
      "cell_type": "code",
      "metadata": {
        "colab": {
          "base_uri": "https://localhost:8080/",
          "height": 202
        },
        "id": "ZvHq1xLOzlkA",
        "outputId": "e53d873e-bb71-4006-d8b0-fd269318cf86"
      },
      "source": [
        "paginas_durante_vamoai.head()"
      ],
      "execution_count": null,
      "outputs": [
        {
          "output_type": "execute_result",
          "data": {
            "text/html": [
              "<div>\n",
              "<style scoped>\n",
              "    .dataframe tbody tr th:only-of-type {\n",
              "        vertical-align: middle;\n",
              "    }\n",
              "\n",
              "    .dataframe tbody tr th {\n",
              "        vertical-align: top;\n",
              "    }\n",
              "\n",
              "    .dataframe thead th {\n",
              "        text-align: right;\n",
              "    }\n",
              "</style>\n",
              "<table border=\"1\" class=\"dataframe\">\n",
              "  <thead>\n",
              "    <tr style=\"text-align: right;\">\n",
              "      <th></th>\n",
              "      <th>titulo</th>\n",
              "      <th>data</th>\n",
              "    </tr>\n",
              "  </thead>\n",
              "  <tbody>\n",
              "    <tr>\n",
              "      <th>5</th>\n",
              "      <td>maristelaraupp</td>\n",
              "      <td>2021-05-07</td>\n",
              "    </tr>\n",
              "    <tr>\n",
              "      <th>6</th>\n",
              "      <td>frontinsampa</td>\n",
              "      <td>2021-05-07</td>\n",
              "    </tr>\n",
              "    <tr>\n",
              "      <th>7</th>\n",
              "      <td>itsmatheuscosta</td>\n",
              "      <td>2021-02-07</td>\n",
              "    </tr>\n",
              "    <tr>\n",
              "      <th>10</th>\n",
              "      <td>instrutoralanlago</td>\n",
              "      <td>2021-06-16</td>\n",
              "    </tr>\n",
              "    <tr>\n",
              "      <th>11</th>\n",
              "      <td>danmendesoficial</td>\n",
              "      <td>2021-06-15</td>\n",
              "    </tr>\n",
              "  </tbody>\n",
              "</table>\n",
              "</div>"
            ],
            "text/plain": [
              "               titulo       data\n",
              "5      maristelaraupp 2021-05-07\n",
              "6        frontinsampa 2021-05-07\n",
              "7     itsmatheuscosta 2021-02-07\n",
              "10  instrutoralanlago 2021-06-16\n",
              "11   danmendesoficial 2021-06-15"
            ]
          },
          "metadata": {
            "tags": []
          },
          "execution_count": 16
        }
      ]
    },
    {
      "cell_type": "markdown",
      "metadata": {
        "id": "hPGtNxA7axre"
      },
      "source": [
        "### Transformando o Dataframe em arquivo csv"
      ]
    },
    {
      "cell_type": "code",
      "metadata": {
        "id": "extYBZzta0EJ"
      },
      "source": [
        "following.to_csv ('following_instagram.csv',index=False)"
      ],
      "execution_count": null,
      "outputs": []
    },
    {
      "cell_type": "code",
      "metadata": {
        "colab": {
          "base_uri": "https://localhost:8080/",
          "height": 16
        },
        "id": "kW6OpTnja4RX",
        "outputId": "9fd88ea3-2b04-4965-acf8-fe6d2db0f2fa"
      },
      "source": [
        "from google.colab import files\n",
        "files.download(\"following_instagram.csv\")"
      ],
      "execution_count": null,
      "outputs": [
        {
          "output_type": "display_data",
          "data": {
            "application/javascript": [
              "\n",
              "    async function download(id, filename, size) {\n",
              "      if (!google.colab.kernel.accessAllowed) {\n",
              "        return;\n",
              "      }\n",
              "      const div = document.createElement('div');\n",
              "      const label = document.createElement('label');\n",
              "      label.textContent = `Downloading \"${filename}\": `;\n",
              "      div.appendChild(label);\n",
              "      const progress = document.createElement('progress');\n",
              "      progress.max = size;\n",
              "      div.appendChild(progress);\n",
              "      document.body.appendChild(div);\n",
              "\n",
              "      const buffers = [];\n",
              "      let downloaded = 0;\n",
              "\n",
              "      const channel = await google.colab.kernel.comms.open(id);\n",
              "      // Send a message to notify the kernel that we're ready.\n",
              "      channel.send({})\n",
              "\n",
              "      for await (const message of channel.messages) {\n",
              "        // Send a message to notify the kernel that we're ready.\n",
              "        channel.send({})\n",
              "        if (message.buffers) {\n",
              "          for (const buffer of message.buffers) {\n",
              "            buffers.push(buffer);\n",
              "            downloaded += buffer.byteLength;\n",
              "            progress.value = downloaded;\n",
              "          }\n",
              "        }\n",
              "      }\n",
              "      const blob = new Blob(buffers, {type: 'application/binary'});\n",
              "      const a = document.createElement('a');\n",
              "      a.href = window.URL.createObjectURL(blob);\n",
              "      a.download = filename;\n",
              "      div.appendChild(a);\n",
              "      a.click();\n",
              "      div.remove();\n",
              "    }\n",
              "  "
            ],
            "text/plain": [
              "<IPython.core.display.Javascript object>"
            ]
          },
          "metadata": {
            "tags": []
          }
        },
        {
          "output_type": "display_data",
          "data": {
            "application/javascript": [
              "download(\"download_9bd62396-e3fe-41b4-94bd-8fb96b04617e\", \"following_instagram.csv\", 6154)"
            ],
            "text/plain": [
              "<IPython.core.display.Javascript object>"
            ]
          },
          "metadata": {
            "tags": []
          }
        }
      ]
    }
  ]
}